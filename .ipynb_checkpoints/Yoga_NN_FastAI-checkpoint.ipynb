{
 "cells": [
  {
   "cell_type": "code",
   "execution_count": null,
   "id": "96ad489d",
   "metadata": {},
   "outputs": [],
   "source": [
    "# dependencies"
   ]
  },
  {
   "cell_type": "code",
   "execution_count": 5,
   "id": "aabf65b2",
   "metadata": {},
   "outputs": [
    {
     "name": "stdout",
     "output_type": "stream",
     "text": [
      "^C\n"
     ]
    }
   ],
   "source": [
    "#!conda install numpy pandas pytorch torchvision cpuonly -c pytorch -y"
   ]
  },
  {
   "cell_type": "code",
   "execution_count": null,
   "id": "a74c7a63",
   "metadata": {},
   "outputs": [],
   "source": [
    "#!pip install matplotlib --upgrade --quiet"
   ]
  },
  {
   "cell_type": "code",
   "execution_count": null,
   "id": "5ff7d982",
   "metadata": {},
   "outputs": [],
   "source": []
  },
  {
   "cell_type": "code",
   "execution_count": 6,
   "id": "9b6cb256",
   "metadata": {},
   "outputs": [],
   "source": [
    "import os\n",
    "import torch\n",
    "import  torchvision\n",
    "import numpy as np\n",
    "import pandas as pd\n",
    "import matplotlib.pyplot as plt\n",
    "import torch.nn as nn\n",
    "import torch.nn.functional as F\n",
    "import torchvision.transforms as tt\n",
    "from torchvision.datasets import VOCDetection\n",
    "from torchvision.transforms import ToTensor\n",
    "from torchvision.utils import make_grid\n",
    "from torch.utils.data.dataloader import DataLoader\n",
    "from torch.utils.data import random_split\n",
    "%matplotlib inline"
   ]
  },
  {
   "cell_type": "code",
   "execution_count": 4,
   "id": "df555e9b",
   "metadata": {},
   "outputs": [],
   "source": [
    "# get data"
   ]
  },
  {
   "cell_type": "code",
   "execution_count": null,
   "id": "12fe5ef8",
   "metadata": {},
   "outputs": [],
   "source": [
    "dataset_path = 'pose_recognition_data/training data/training frames/'"
   ]
  },
  {
   "cell_type": "code",
   "execution_count": 2,
   "id": "08d19200",
   "metadata": {},
   "outputs": [],
   "source": [
    "# build transfer learning"
   ]
  },
  {
   "cell_type": "code",
   "execution_count": 3,
   "id": "47097bb0",
   "metadata": {},
   "outputs": [],
   "source": [
    "# Make some prediction"
   ]
  },
  {
   "cell_type": "code",
   "execution_count": null,
   "id": "39e31bd3",
   "metadata": {},
   "outputs": [],
   "source": []
  },
  {
   "cell_type": "code",
   "execution_count": null,
   "id": "9cab9ea7",
   "metadata": {},
   "outputs": [],
   "source": [
    "#################################################################"
   ]
  },
  {
   "cell_type": "code",
   "execution_count": null,
   "id": "a66d1f2a",
   "metadata": {},
   "outputs": [],
   "source": [
    "# yoga-82"
   ]
  },
  {
   "cell_type": "code",
   "execution_count": null,
   "id": "c6cb12e2",
   "metadata": {},
   "outputs": [],
   "source": []
  },
  {
   "cell_type": "code",
   "execution_count": 7,
   "id": "478d6d8a",
   "metadata": {},
   "outputs": [],
   "source": [
    "import sys\n",
    "import os"
   ]
  },
  {
   "cell_type": "code",
   "execution_count": null,
   "id": "16936fca",
   "metadata": {},
   "outputs": [],
   "source": [
    "! sudo rm  pose_recognition_data/Yoga-82/yoga_dataset_links/desktop.ini"
   ]
  },
  {
   "cell_type": "code",
   "execution_count": 8,
   "id": "fd1961d7",
   "metadata": {},
   "outputs": [
    {
     "data": {
      "text/plain": [
       "['Akarna_Dhanurasana.txt',\n",
       " \"Bharadvaja's_Twist_pose_or_Bharadvajasana_I_.txt\",\n",
       " 'Boat_Pose_or_Paripurna_Navasana_.txt',\n",
       " 'Bound_Angle_Pose_or_Baddha_Konasana_.txt',\n",
       " 'Bow_Pose_or_Dhanurasana_.txt',\n",
       " 'Bridge_Pose_or_Setu_Bandha_Sarvangasana_.txt',\n",
       " 'Camel_Pose_or_Ustrasana_.txt',\n",
       " 'Cat_Cow_Pose_or_Marjaryasana_.txt',\n",
       " 'Chair_Pose_or_Utkatasana_.txt',\n",
       " 'Child_Pose_or_Balasana_.txt',\n",
       " 'Cobra_Pose_or_Bhujangasana_.txt',\n",
       " 'Cockerel_Pose.txt',\n",
       " 'Corpse_Pose_or_Savasana_.txt',\n",
       " 'Cow_Face_Pose_or_Gomukhasana_.txt',\n",
       " 'Crane_(Crow)_Pose_or_Bakasana_.txt',\n",
       " 'desktop.ini',\n",
       " 'Dolphin_Plank_Pose_or_Makara_Adho_Mukha_Svanasana_.txt',\n",
       " 'Dolphin_Pose_or_Ardha_Pincha_Mayurasana_.txt',\n",
       " 'Downward-Facing_Dog_pose_or_Adho_Mukha_Svanasana_.txt',\n",
       " 'Eagle_Pose_or_Garudasana_.txt',\n",
       " 'Eight-Angle_Pose_or_Astavakrasana_.txt',\n",
       " 'Extended_Puppy_Pose_or_Uttana_Shishosana_.txt',\n",
       " 'Extended_Revolved_Side_Angle_Pose_or_Utthita_Parsvakonasana_.txt',\n",
       " 'Extended_Revolved_Triangle_Pose_or_Utthita_Trikonasana_.txt',\n",
       " 'Feathered_Peacock_Pose_or_Pincha_Mayurasana_.txt',\n",
       " 'Firefly_Pose_or_Tittibhasana_.txt',\n",
       " 'Fish_Pose_or_Matsyasana_.txt',\n",
       " 'Four-Limbed_Staff_Pose_or_Chaturanga_Dandasana_.txt',\n",
       " 'Frog_Pose_or_Bhekasana.txt',\n",
       " 'Garland_Pose_or_Malasana_.txt',\n",
       " 'Gate_Pose_or_Parighasana_.txt',\n",
       " 'Half_Lord_of_the_Fishes_Pose_or_Ardha_Matsyendrasana_.txt',\n",
       " 'Half_Moon_Pose_or_Ardha_Chandrasana_.txt',\n",
       " 'Handstand_pose_or_Adho_Mukha_Vrksasana_.txt',\n",
       " 'Happy_Baby_Pose_or_Ananda_Balasana_.txt',\n",
       " 'Head-to-Knee_Forward_Bend_pose_or_Janu_Sirsasana_.txt',\n",
       " 'Heron_Pose_or_Krounchasana_.txt',\n",
       " 'Intense_Side_Stretch_Pose_or_Parsvottanasana_.txt',\n",
       " 'Legs-Up-the-Wall_Pose_or_Viparita_Karani_.txt',\n",
       " 'Locust_Pose_or_Salabhasana_.txt',\n",
       " 'Lord_of_the_Dance_Pose_or_Natarajasana_.txt',\n",
       " 'Low_Lunge_pose_or_Anjaneyasana_.txt',\n",
       " 'Noose_Pose_or_Pasasana_.txt',\n",
       " 'Peacock_Pose_or_Mayurasana_.txt',\n",
       " 'Pigeon_Pose_or_Kapotasana_.txt',\n",
       " 'Plank_Pose_or_Kumbhakasana_.txt',\n",
       " 'Plow_Pose_or_Halasana_.txt',\n",
       " 'Pose_Dedicated_to_the_Sage_Koundinya_or_Eka_Pada_Koundinyanasana_I_and_II.txt',\n",
       " 'Rajakapotasana.txt',\n",
       " 'Reclining_Hand-to-Big-Toe_Pose_or_Supta_Padangusthasana_.txt',\n",
       " 'Revolved_Head-to-Knee_Pose_or_Parivrtta_Janu_Sirsasana_.txt',\n",
       " 'Scale_Pose_or_Tolasana_.txt',\n",
       " 'Scorpion_pose_or_vrischikasana.txt',\n",
       " 'Seated_Forward_Bend_pose_or_Paschimottanasana_.txt',\n",
       " 'Shoulder-Pressing_Pose_or_Bhujapidasana_.txt',\n",
       " 'Side-Reclining_Leg_Lift_pose_or_Anantasana_.txt',\n",
       " 'Side_Crane_(Crow)_Pose_or_Parsva_Bakasana_.txt',\n",
       " 'Side_Plank_Pose_or_Vasisthasana_.txt',\n",
       " 'Sitting pose 1 (normal).txt',\n",
       " 'Split pose.txt',\n",
       " 'Staff_Pose_or_Dandasana_.txt',\n",
       " 'Standing_big_toe_hold_pose_or_Utthita_Padangusthasana.txt',\n",
       " 'Standing_Forward_Bend_pose_or_Uttanasana_.txt',\n",
       " 'Standing_Split_pose_or_Urdhva_Prasarita_Eka_Padasana_.txt',\n",
       " 'Supported_Headstand_pose_or_Salamba_Sirsasana_.txt',\n",
       " 'Supported_Shoulderstand_pose_or_Salamba_Sarvangasana_.txt',\n",
       " 'Supta_Baddha_Konasana_.txt',\n",
       " 'Supta_Virasana_Vajrasana.txt',\n",
       " 'Tortoise_Pose.txt',\n",
       " 'Tree_Pose_or_Vrksasana_.txt',\n",
       " 'Upward_Bow_(Wheel)_Pose_or_Urdhva_Dhanurasana_.txt',\n",
       " 'Upward_Facing_Two-Foot_Staff_Pose_or_Dwi_Pada_Viparita_Dandasana_.txt',\n",
       " 'Upward_Plank_Pose_or_Purvottanasana_.txt',\n",
       " 'viparita_virabhadrasana_or_reverse_warrior_pose.txt',\n",
       " 'Virasana_or_Vajrasana.txt',\n",
       " 'Warrior_III_Pose_or_Virabhadrasana_III_.txt',\n",
       " 'Warrior_II_Pose_or_Virabhadrasana_II_.txt',\n",
       " 'Warrior_I_Pose_or_Virabhadrasana_I_.txt',\n",
       " 'Wide-Angle_Seated_Forward_Bend_pose_or_Upavistha_Konasana_.txt',\n",
       " 'Wide-Legged_Forward_Bend_pose_or_Prasarita_Padottanasana_.txt',\n",
       " 'Wild_Thing_pose_or_Camatkarasana_.txt',\n",
       " 'Wind_Relieving_pose_or_Pawanmuktasana.txt',\n",
       " 'Yogic_sleep_pose.txt']"
      ]
     },
     "execution_count": 8,
     "metadata": {},
     "output_type": "execute_result"
    }
   ],
   "source": [
    "file_list = os.listdir(\"pose_recognition_data/Yoga-82/yoga_dataset_links\");\n",
    "file_list"
   ]
  },
  {
   "cell_type": "code",
   "execution_count": 9,
   "id": "287163c8",
   "metadata": {},
   "outputs": [
    {
     "data": {
      "text/plain": [
       "83"
      ]
     },
     "execution_count": 9,
     "metadata": {},
     "output_type": "execute_result"
    }
   ],
   "source": [
    "len(file_list)"
   ]
  },
  {
   "cell_type": "code",
   "execution_count": 10,
   "id": "5da91444",
   "metadata": {},
   "outputs": [],
   "source": [
    "os.mkdir(\"Images\")"
   ]
  },
  {
   "cell_type": "code",
   "execution_count": 13,
   "id": "67158d11",
   "metadata": {},
   "outputs": [
    {
     "ename": "SyntaxError",
     "evalue": "unexpected EOF while parsing (<ipython-input-13-4e591d6bb4c4>, line 25)",
     "output_type": "error",
     "traceback": [
      "\u001b[1;36m  File \u001b[1;32m\"<ipython-input-13-4e591d6bb4c4>\"\u001b[1;36m, line \u001b[1;32m25\u001b[0m\n\u001b[1;33m    \u001b[0m\n\u001b[1;37m    ^\u001b[0m\n\u001b[1;31mSyntaxError\u001b[0m\u001b[1;31m:\u001b[0m unexpected EOF while parsing\n"
     ]
    }
   ],
   "source": [
    "from PIL import Image\n",
    "from tqdm.notebook import tqdm\n",
    "\n",
    "for i in tqdm(range(len(file_list))):\n",
    "    f = open(\"pose_recognition_data/Yoga-82/yoga_dataset_links/\" + file_list[i], 'r');\n",
    "    lines = f.readlines();\n",
    "    f.close();\n",
    "    \n",
    "    for j in tqdm(range(len(lines))):\n",
    "        #print(lines[j])\n",
    "        splits = lines[j][:len(lines[j])-1].split(\",\")\n",
    "        img_path = splits[0];\n",
    "        link = splits[1];\n",
    "        \n",
    "        folder_name, img_name = img_path.split(\"/\");\n",
    "        if(j == 0):\n",
    "            if(not os.path.isdir(\"Images/\" + folder_name)):\n",
    "                os.mkdir(\"Images/\" + folder_name)\n",
    "        os.system(\"wget -O \" + \"Images/\" + folder_name + \"/\" + img_name + \" \" + link)\n",
    "        try:\n",
    "            img = Image.open(\"Images/\" + folder_name + \"/\" + img_name)\n",
    "            img.verify()     # to veify if its an img\n",
    "            img.close()     #to close img and free memory space\n",
    "        except (IOError, SyntaxError) as e:\n",
    "            "
   ]
  },
  {
   "cell_type": "code",
   "execution_count": null,
   "id": "cf6ce9d2",
   "metadata": {},
   "outputs": [],
   "source": []
  }
 ],
 "metadata": {
  "kernelspec": {
   "display_name": "Python 3",
   "language": "python",
   "name": "python3"
  },
  "language_info": {
   "codemirror_mode": {
    "name": "ipython",
    "version": 3
   },
   "file_extension": ".py",
   "mimetype": "text/x-python",
   "name": "python",
   "nbconvert_exporter": "python",
   "pygments_lexer": "ipython3",
   "version": "3.8.8"
  }
 },
 "nbformat": 4,
 "nbformat_minor": 5
}
