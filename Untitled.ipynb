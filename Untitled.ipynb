{
 "cells": [
  {
   "cell_type": "code",
   "execution_count": 1,
   "id": "6250a9b3",
   "metadata": {},
   "outputs": [],
   "source": [
    "import cv2\n",
    "import mediapipe as mp\n",
    "import numpy as np\n",
    "from time import sleep\n",
    "mp_drawing = mp.solutions.drawing_utils\n",
    "mp_pose = mp.solutions.pose"
   ]
  },
  {
   "cell_type": "code",
   "execution_count": 2,
   "id": "40d29861",
   "metadata": {},
   "outputs": [
    {
     "ename": "KeyboardInterrupt",
     "evalue": "",
     "output_type": "error",
     "traceback": [
      "\u001b[1;31m---------------------------------------------------------------------------\u001b[0m",
      "\u001b[1;31mKeyboardInterrupt\u001b[0m                         Traceback (most recent call last)",
      "\u001b[1;32m<ipython-input-2-ec1bcba91a16>\u001b[0m in \u001b[0;36m<module>\u001b[1;34m\u001b[0m\n\u001b[0;32m      2\u001b[0m \u001b[0mcap\u001b[0m \u001b[1;33m=\u001b[0m \u001b[0mcv2\u001b[0m\u001b[1;33m.\u001b[0m\u001b[0mVideoCapture\u001b[0m\u001b[1;33m(\u001b[0m\u001b[1;36m0\u001b[0m\u001b[1;33m)\u001b[0m\u001b[1;33m\u001b[0m\u001b[1;33m\u001b[0m\u001b[0m\n\u001b[0;32m      3\u001b[0m \u001b[1;32mwhile\u001b[0m \u001b[0mcap\u001b[0m\u001b[1;33m.\u001b[0m\u001b[0misOpened\u001b[0m\u001b[1;33m(\u001b[0m\u001b[1;33m)\u001b[0m\u001b[1;33m:\u001b[0m\u001b[1;33m\u001b[0m\u001b[1;33m\u001b[0m\u001b[0m\n\u001b[1;32m----> 4\u001b[1;33m     \u001b[0mret\u001b[0m\u001b[1;33m,\u001b[0m \u001b[0mframe\u001b[0m \u001b[1;33m=\u001b[0m \u001b[0mcap\u001b[0m\u001b[1;33m.\u001b[0m\u001b[0mread\u001b[0m\u001b[1;33m(\u001b[0m\u001b[1;33m)\u001b[0m\u001b[1;33m\u001b[0m\u001b[1;33m\u001b[0m\u001b[0m\n\u001b[0m\u001b[0;32m      5\u001b[0m     \u001b[0mcv2\u001b[0m\u001b[1;33m.\u001b[0m\u001b[0mimshow\u001b[0m\u001b[1;33m(\u001b[0m\u001b[1;34m'Mediapipe Feed'\u001b[0m\u001b[1;33m,\u001b[0m \u001b[0mframe\u001b[0m\u001b[1;33m)\u001b[0m\u001b[1;33m\u001b[0m\u001b[1;33m\u001b[0m\u001b[0m\n\u001b[0;32m      6\u001b[0m \u001b[1;33m\u001b[0m\u001b[0m\n",
      "\u001b[1;31mKeyboardInterrupt\u001b[0m: "
     ]
    }
   ],
   "source": [
    "# VIDEO FEED\n",
    "cap = cv2.VideoCapture(0)\n",
    "while cap.isOpened():\n",
    "    ret, frame = cap.read()\n",
    "    cv2.imshow('Mediapipe Feed', frame)\n",
    "    \n",
    "    if cv2.waitKey(10) & 0xFF == ord('q'):\n",
    "        break\n",
    "        \n",
    "cap.release()\n",
    "\n",
    "cv2.destroyAllWindows()"
   ]
  },
  {
   "cell_type": "markdown",
   "id": "bd5fb3e4",
   "metadata": {},
   "source": [
    "# 1. Make Detections"
   ]
  },
  {
   "cell_type": "code",
   "execution_count": 3,
   "id": "2c65d152",
   "metadata": {},
   "outputs": [
    {
     "ename": "KeyboardInterrupt",
     "evalue": "",
     "output_type": "error",
     "traceback": [
      "\u001b[1;31m---------------------------------------------------------------------------\u001b[0m",
      "\u001b[1;31mKeyboardInterrupt\u001b[0m                         Traceback (most recent call last)",
      "\u001b[1;32m<ipython-input-3-5134b9a17faa>\u001b[0m in \u001b[0;36m<module>\u001b[1;34m\u001b[0m\n\u001b[0;32m     24\u001b[0m         \u001b[0mcv2\u001b[0m\u001b[1;33m.\u001b[0m\u001b[0mimshow\u001b[0m\u001b[1;33m(\u001b[0m\u001b[1;34m'Mediapipe Feed'\u001b[0m\u001b[1;33m,\u001b[0m \u001b[0mimage\u001b[0m\u001b[1;33m)\u001b[0m\u001b[1;33m\u001b[0m\u001b[1;33m\u001b[0m\u001b[0m\n\u001b[0;32m     25\u001b[0m \u001b[1;33m\u001b[0m\u001b[0m\n\u001b[1;32m---> 26\u001b[1;33m         \u001b[1;32mif\u001b[0m \u001b[0mcv2\u001b[0m\u001b[1;33m.\u001b[0m\u001b[0mwaitKey\u001b[0m\u001b[1;33m(\u001b[0m\u001b[1;36m10\u001b[0m\u001b[1;33m)\u001b[0m \u001b[1;33m&\u001b[0m \u001b[1;36m0xFF\u001b[0m \u001b[1;33m==\u001b[0m \u001b[0mord\u001b[0m\u001b[1;33m(\u001b[0m\u001b[1;34m'q'\u001b[0m\u001b[1;33m)\u001b[0m\u001b[1;33m:\u001b[0m\u001b[1;33m\u001b[0m\u001b[1;33m\u001b[0m\u001b[0m\n\u001b[0m\u001b[0;32m     27\u001b[0m             \u001b[1;32mbreak\u001b[0m\u001b[1;33m\u001b[0m\u001b[1;33m\u001b[0m\u001b[0m\n\u001b[0;32m     28\u001b[0m \u001b[1;33m\u001b[0m\u001b[0m\n",
      "\u001b[1;31mKeyboardInterrupt\u001b[0m: "
     ]
    }
   ],
   "source": [
    "cap = cv2.VideoCapture(0)\n",
    "## Setup mediapipe instance\n",
    "with mp_pose.Pose(min_detection_confidence=0.5, min_tracking_confidence=0.5) as pose:\n",
    "    while cap.isOpened():\n",
    "        ret, frame = cap.read()\n",
    "        \n",
    "        # Recolor image to RGB\n",
    "        image = cv2.cvtColor(frame, cv2.COLOR_BGR2RGB)\n",
    "        image.flags.writeable = False\n",
    "      \n",
    "        # Make detection\n",
    "        results = pose.process(image)\n",
    "    \n",
    "        # Recolor back to BGR\n",
    "        image.flags.writeable = True\n",
    "        image = cv2.cvtColor(image, cv2.COLOR_RGB2BGR)\n",
    "        \n",
    "        # Render detections\n",
    "        mp_drawing.draw_landmarks(image, results.pose_landmarks, mp_pose.POSE_CONNECTIONS,\n",
    "                                mp_drawing.DrawingSpec(color=(245,117,66), thickness=2, circle_radius=2), \n",
    "                                mp_drawing.DrawingSpec(color=(245,66,230), thickness=2, circle_radius=2) \n",
    "                                 )               \n",
    "        \n",
    "        cv2.imshow('Mediapipe Feed', image)\n",
    "\n",
    "        if cv2.waitKey(10) & 0xFF == ord('q'):\n",
    "            break\n",
    "\n",
    "    cap.release()\n",
    "    cv2.destroyAllWindows()"
   ]
  },
  {
   "cell_type": "code",
   "execution_count": null,
   "id": "3c51cbb5",
   "metadata": {},
   "outputs": [],
   "source": [
    "cap.isOpened()"
   ]
  },
  {
   "cell_type": "code",
   "execution_count": null,
   "id": "e62a342d",
   "metadata": {},
   "outputs": [],
   "source": [
    "mp_drawing.DrawingSpec??"
   ]
  },
  {
   "cell_type": "code",
   "execution_count": 5,
   "id": "ce3f45da",
   "metadata": {},
   "outputs": [
    {
     "name": "stdout",
     "output_type": "stream",
     "text": [
      "[x: 0.24787636\n",
      "y: 0.5258564\n",
      "z: -0.80024976\n",
      "visibility: 0.9999591\n",
      ", x: 0.28700083\n",
      "y: 0.45019996\n",
      "z: -0.8047446\n",
      "visibility: 0.9999522\n",
      ", x: 0.305561\n",
      "y: 0.44261196\n",
      "z: -0.8045343\n",
      "visibility: 0.9999622\n",
      ", x: 0.32802808\n",
      "y: 0.4339131\n",
      "z: -0.8042134\n",
      "visibility: 0.99995565\n",
      ", x: 0.2531995\n",
      "y: 0.46018946\n",
      "z: -0.7108842\n",
      "visibility: 0.9999269\n",
      ", x: 0.2465848\n",
      "y: 0.46049964\n",
      "z: -0.71095496\n",
      "visibility: 0.999931\n",
      ", x: 0.23994735\n",
      "y: 0.45958853\n",
      "z: -0.7106722\n",
      "visibility: 0.9999188\n",
      ", x: 0.4072988\n",
      "y: 0.44834682\n",
      "z: -0.6654099\n",
      "visibility: 0.99997807\n",
      ", x: 0.27902317\n",
      "y: 0.47551182\n",
      "z: -0.23890194\n",
      "visibility: 0.99993956\n",
      ", x: 0.29652858\n",
      "y: 0.57684743\n",
      "z: -0.7408505\n",
      "visibility: 0.9999906\n",
      ", x: 0.25853366\n",
      "y: 0.58209103\n",
      "z: -0.6189848\n",
      "visibility: 0.99998474\n",
      ", x: 0.6292877\n",
      "y: 0.78653294\n",
      "z: -0.72087616\n",
      "visibility: 0.9998406\n",
      ", x: 0.2570827\n",
      "y: 0.8080296\n",
      "z: 0.035250813\n",
      "visibility: 0.99982435\n",
      ", x: 0.6063681\n",
      "y: 1.2580683\n",
      "z: -0.74824035\n",
      "visibility: 0.42405146\n",
      ", x: 0.10750216\n",
      "y: 1.0721345\n",
      "z: 0.11555233\n",
      "visibility: 0.1362759\n",
      ", x: 0.50932074\n",
      "y: 1.592323\n",
      "z: -0.878883\n",
      "visibility: 0.011963173\n",
      ", x: 0.09641296\n",
      "y: 1.3577017\n",
      "z: -0.24335809\n",
      "visibility: 0.021843672\n",
      ", x: 0.51121634\n",
      "y: 1.7135391\n",
      "z: -0.9885586\n",
      "visibility: 0.0206906\n",
      ", x: 0.07366598\n",
      "y: 1.428766\n",
      "z: -0.301638\n",
      "visibility: 0.02571786\n",
      ", x: 0.468293\n",
      "y: 1.7279366\n",
      "z: -0.9904192\n",
      "visibility: 0.05668069\n",
      ", x: 0.11757183\n",
      "y: 1.4274955\n",
      "z: -0.35513595\n",
      "visibility: 0.051763218\n",
      ", x: 0.46764523\n",
      "y: 1.6704127\n",
      "z: -0.8893386\n",
      "visibility: 0.036443025\n",
      ", x: 0.13240212\n",
      "y: 1.399057\n",
      "z: -0.2899736\n",
      "visibility: 0.05563141\n",
      ", x: 0.5901842\n",
      "y: 1.5907587\n",
      "z: -0.23359518\n",
      "visibility: 3.0284296e-05\n",
      ", x: 0.36060628\n",
      "y: 1.5766286\n",
      "z: 0.2461652\n",
      "visibility: 2.8296072e-05\n",
      ", x: 0.5709181\n",
      "y: 2.2334008\n",
      "z: -0.587782\n",
      "visibility: 1.4563089e-05\n",
      ", x: 0.29659694\n",
      "y: 2.2261488\n",
      "z: 0.14824845\n",
      "visibility: 3.9500283e-06\n",
      ", x: 0.5771124\n",
      "y: 2.8067002\n",
      "z: -0.021628702\n",
      "visibility: 5.3445252e-08\n",
      ", x: 0.33992085\n",
      "y: 2.8049753\n",
      "z: 0.68168265\n",
      "visibility: 4.488908e-08\n",
      ", x: 0.61793447\n",
      "y: 2.901732\n",
      "z: 0.016342467\n",
      "visibility: 8.985632e-08\n",
      ", x: 0.3648443\n",
      "y: 2.901073\n",
      "z: 0.7173813\n",
      "visibility: 9.365882e-08\n",
      ", x: 0.4641598\n",
      "y: 2.9798381\n",
      "z: -0.4451031\n",
      "visibility: 8.360318e-07\n",
      ", x: 0.2899168\n",
      "y: 2.9775882\n",
      "z: 0.30866998\n",
      "visibility: 1.2011776e-06\n",
      "]\n"
     ]
    }
   ],
   "source": [
    "cap = cv2.VideoCapture(0)\n",
    "## Setup mediapipe instance\n",
    "with mp_pose.Pose(min_detection_confidence=0.5, min_tracking_confidence=0.5) as pose:\n",
    "    while cap.isOpened():\n",
    "        ret, frame = cap.read()\n",
    "        \n",
    "        # Recolor image to RGB\n",
    "        image = cv2.cvtColor(frame, cv2.COLOR_BGR2RGB)\n",
    "        image.flags.writeable = False\n",
    "      \n",
    "        # Make detection\n",
    "        results = pose.process(image)\n",
    "    \n",
    "        # Recolor back to BGR\n",
    "        image.flags.writeable = True\n",
    "        image = cv2.cvtColor(image, cv2.COLOR_RGB2BGR)\n",
    "        \n",
    "        # Extract landmarks\n",
    "        try:\n",
    "            landmarks = results.pose_landmarks.landmark\n",
    "            print(landmarks)\n",
    "        except:\n",
    "            pass\n",
    "        \n",
    "        \n",
    "        # Render detections\n",
    "        mp_drawing.draw_landmarks(image, results.pose_landmarks, mp_pose.POSE_CONNECTIONS,\n",
    "                                mp_drawing.DrawingSpec(color=(245,117,66), thickness=2, circle_radius=2), \n",
    "                                mp_drawing.DrawingSpec(color=(245,66,230), thickness=2, circle_radius=2) \n",
    "                                 )               \n",
    "        \n",
    "        cv2.imshow('Mediapipe Feed', image)\n",
    "\n",
    "        if cv2.waitKey(10) & 0xFF == ord('q'):\n",
    "            break\n",
    "        break\n",
    "\n",
    "    cap.release()\n",
    "    cv2.destroyAllWindows()"
   ]
  },
  {
   "cell_type": "code",
   "execution_count": null,
   "id": "0b093d38",
   "metadata": {},
   "outputs": [],
   "source": [
    "len(landmarks)"
   ]
  },
  {
   "cell_type": "code",
   "execution_count": null,
   "id": "97c5411a",
   "metadata": {},
   "outputs": [],
   "source": [
    "for lndmrk in mp_pose.PoseLandmark:\n",
    "    print(lndmrk)"
   ]
  },
  {
   "cell_type": "code",
   "execution_count": null,
   "id": "8797820a",
   "metadata": {},
   "outputs": [],
   "source": [
    "landmarks[mp_pose.PoseLandmark.LEFT_SHOULDER.value].visibility"
   ]
  },
  {
   "cell_type": "code",
   "execution_count": null,
   "id": "23cf87cc",
   "metadata": {},
   "outputs": [],
   "source": [
    "landmarks[mp_pose.PoseLandmark.LEFT_ELBOW.value]"
   ]
  },
  {
   "cell_type": "code",
   "execution_count": 6,
   "id": "fb843c6d",
   "metadata": {},
   "outputs": [],
   "source": [
    "def calculate_angle(a,b,c):\n",
    "    a = np.array(a) # First\n",
    "    b = np.array(b) # Mid\n",
    "    c = np.array(c) # End\n",
    "    \n",
    "    radians = np.arctan2(c[1]-b[1], c[0]-b[0]) - np.arctan2(a[1]-b[1], a[0]-b[0])\n",
    "    angle = np.abs(radians*180.0/np.pi)\n",
    "    \n",
    "    if angle >180.0:\n",
    "        angle = 360-angle\n",
    "        \n",
    "    return angle"
   ]
  },
  {
   "cell_type": "code",
   "execution_count": null,
   "id": "2880807b",
   "metadata": {},
   "outputs": [],
   "source": [
    "shoulder = [landmarks[mp_pose.PoseLandmark.LEFT_SHOULDER.value].x,landmarks[mp_pose.PoseLandmark.LEFT_SHOULDER.value].y]\n",
    "elbow = [landmarks[mp_pose.PoseLandmark.LEFT_ELBOW.value].x,landmarks[mp_pose.PoseLandmark.LEFT_ELBOW.value].y]\n",
    "wrist = [landmarks[mp_pose.PoseLandmark.LEFT_WRIST.value].x,landmarks[mp_pose.PoseLandmark.LEFT_WRIST.value].y]"
   ]
  },
  {
   "cell_type": "code",
   "execution_count": null,
   "id": "221aeaaa",
   "metadata": {},
   "outputs": [],
   "source": [
    "shoulder, elbow, wrist"
   ]
  },
  {
   "cell_type": "code",
   "execution_count": null,
   "id": "701d9833",
   "metadata": {},
   "outputs": [],
   "source": [
    "calculate_angle(shoulder, elbow, wrist)"
   ]
  },
  {
   "cell_type": "markdown",
   "id": "d1194f56",
   "metadata": {},
   "source": [
    "# Angle with 3D"
   ]
  },
  {
   "cell_type": "code",
   "execution_count": null,
   "id": "2d61df9c",
   "metadata": {},
   "outputs": [],
   "source": [
    "a = np.array([0, 0, 1])\n",
    "b = np.array([0, 0, 2])\n",
    "c = np.array([0, 0,3])\n",
    "\n",
    "ba = a - b\n",
    "bc = c - b\n",
    "\n",
    "cosine_angle = np.dot(ba, bc) / (np.linalg.norm(ba) * np.linalg.norm(bc))\n",
    "angle = np.arccos(cosine_angle)\n",
    "\n",
    "print(np.degrees(angle))"
   ]
  },
  {
   "cell_type": "code",
   "execution_count": null,
   "id": "9fafe8f9",
   "metadata": {},
   "outputs": [],
   "source": [
    "tuple(np.multiply(elbow, [640, 480]).astype(int))"
   ]
  },
  {
   "cell_type": "code",
   "execution_count": 7,
   "id": "86413566",
   "metadata": {},
   "outputs": [],
   "source": [
    "def angle_2d(results):\n",
    "    \"\"\"\n",
    "    Function to extract 2d angle of Pipeline landmarks\n",
    "    \"\"\"\n",
    "    landmarks = results.pose_landmarks.landmark\n",
    "            \n",
    "    # Get coordinates\n",
    "    shoulder = [landmarks[mp_pose.PoseLandmark.LEFT_SHOULDER.value].x,landmarks[mp_pose.PoseLandmark.LEFT_SHOULDER.value].y]\n",
    "    elbow = [landmarks[mp_pose.PoseLandmark.LEFT_ELBOW.value].x,landmarks[mp_pose.PoseLandmark.LEFT_ELBOW.value].y]\n",
    "    wrist = [landmarks[mp_pose.PoseLandmark.LEFT_WRIST.value].x,landmarks[mp_pose.PoseLandmark.LEFT_WRIST.value].y]\n",
    "\n",
    "    # Calculate angle\n",
    "    angle = calculate_angle(shoulder, elbow, wrist)\n",
    "    return angle"
   ]
  },
  {
   "cell_type": "code",
   "execution_count": 8,
   "id": "129eed97",
   "metadata": {},
   "outputs": [],
   "source": [
    "def calc_angle_3d(a, b, c):\n",
    "    \"\"\"\n",
    "    Function to extract 2d angle of Pipeline landmarks\n",
    "    \"\"\"\n",
    "\n",
    "    # Calculate angle\n",
    "    a = np.array(a)\n",
    "    b = np.array(b)\n",
    "    c = np.array(c)\n",
    "\n",
    "    ba = a - b\n",
    "    bc = c - b\n",
    "\n",
    "    cosine_angle = np.dot(ba, bc) / (np.linalg.norm(ba) * np.linalg.norm(bc))\n",
    "    angle = np.arccos(cosine_angle)\n",
    "    \n",
    "    degree = np.degrees(np.arccos(cosine_angle))\n",
    "    \n",
    "    a = ba\n",
    "    b = bc\n",
    "    a_mag = np.linalg.norm(a)\n",
    "    b_mag = np.linalg.norm(b)\n",
    "\n",
    "    theta = np.dot(a,b)/(a_mag * b_mag)\n",
    "    return degree\n",
    "    return theta, angle, cosine_angle"
   ]
  },
  {
   "cell_type": "code",
   "execution_count": null,
   "id": "95fa32f6",
   "metadata": {},
   "outputs": [],
   "source": []
  },
  {
   "cell_type": "code",
   "execution_count": null,
   "id": "22326c0d",
   "metadata": {},
   "outputs": [],
   "source": [
    "np.degrees(np.arccos(0))"
   ]
  },
  {
   "cell_type": "code",
   "execution_count": null,
   "id": "d2ac5f29",
   "metadata": {},
   "outputs": [],
   "source": [
    "np.arccos(0)"
   ]
  },
  {
   "cell_type": "code",
   "execution_count": null,
   "id": "cd709ed5",
   "metadata": {},
   "outputs": [],
   "source": [
    "calc_angle_3d(\n",
    "    [0, 1, 0],\n",
    "    [0, 0, 0],\n",
    "    [1, 0, 0])"
   ]
  },
  {
   "cell_type": "code",
   "execution_count": null,
   "id": "cd627dc6",
   "metadata": {},
   "outputs": [],
   "source": [
    "landmarks = results.pose_landmarks.landmark\n",
    "            \n",
    "# Get coordinates\n",
    "shoulder_3d = [\n",
    "    landmarks[mp_pose.PoseLandmark.LEFT_SHOULDER.value].x,\n",
    "    landmarks[mp_pose.PoseLandmark.LEFT_SHOULDER.value].y,\n",
    "    landmarks[mp_pose.PoseLandmark.LEFT_SHOULDER.value].z\n",
    "]\n",
    "elbow_3d = [\n",
    "    landmarks[mp_pose.PoseLandmark.LEFT_ELBOW.value].x,\n",
    "    landmarks[mp_pose.PoseLandmark.LEFT_ELBOW.value].y,\n",
    "    landmarks[mp_pose.PoseLandmark.LEFT_ELBOW.value].z\n",
    "]\n",
    "wrist_3d = [\n",
    "    landmarks[mp_pose.PoseLandmark.LEFT_WRIST.value].x,\n",
    "    landmarks[mp_pose.PoseLandmark.LEFT_WRIST.value].y,\n",
    "    landmarks[mp_pose.PoseLandmark.LEFT_WRIST.value].z\n",
    "]"
   ]
  },
  {
   "cell_type": "code",
   "execution_count": null,
   "id": "5f3a49a9",
   "metadata": {},
   "outputs": [],
   "source": [
    "calc_angle_3d(results)"
   ]
  },
  {
   "cell_type": "code",
   "execution_count": null,
   "id": "7701f651",
   "metadata": {},
   "outputs": [],
   "source": [
    "np.multiply(elbow, [640, 480]).astype(int) + 20\n"
   ]
  },
  {
   "cell_type": "code",
   "execution_count": null,
   "id": "cf9beacb",
   "metadata": {},
   "outputs": [],
   "source": [
    "angle = calculate_angle(shoulder, elbow, wrist)"
   ]
  },
  {
   "cell_type": "code",
   "execution_count": null,
   "id": "c93d0d17",
   "metadata": {},
   "outputs": [],
   "source": [
    "angle"
   ]
  },
  {
   "cell_type": "code",
   "execution_count": null,
   "id": "b8a1228d",
   "metadata": {},
   "outputs": [],
   "source": [
    "results\n"
   ]
  },
  {
   "cell_type": "code",
   "execution_count": null,
   "id": "deb44b39",
   "metadata": {},
   "outputs": [],
   "source": [
    "angle_3d = calc_angle_3d(results)\n",
    "angle_3d"
   ]
  },
  {
   "cell_type": "code",
   "execution_count": 11,
   "id": "e702bc60",
   "metadata": {},
   "outputs": [
    {
     "name": "stdout",
     "output_type": "stream",
     "text": [
      "[0.6072325110435486, 1.1804046630859375]\n",
      "[0.5683180093765259, 1.1828036308288574]\n",
      "[0.5734816789627075, 1.182320237159729]\n",
      "[0.5718631744384766, 1.197646975517273]\n",
      "[0.5935591459274292, 1.0700087547302246]\n",
      "[0.5843483805656433, 0.8510952591896057]\n",
      "[0.6400210857391357, 0.8485291600227356]\n",
      "[0.7397390007972717, 0.8957218527793884]\n",
      "[0.8337804079055786, 0.8838155269622803]\n",
      "[0.8516954183578491, 0.8699092864990234]\n",
      "[0.8354347348213196, 0.8379995226860046]\n",
      "[0.8783746957778931, 0.8254436254501343]\n",
      "[0.8958399891853333, 0.808957040309906]\n",
      "[0.9179475903511047, 0.8425963521003723]\n",
      "[0.9238443374633789, 0.8582170009613037]\n",
      "[0.914106011390686, 0.8667929768562317]\n",
      "[0.9208171963691711, 0.8728366494178772]\n",
      "[0.927294909954071, 0.8788903951644897]\n",
      "[0.6929774880409241, 0.8763288855552673]\n",
      "[0.5979071259498596, 0.8700025677680969]\n",
      "[0.2887882590293884, 0.8681840300559998]\n",
      "[0.26697292923927307, 0.8698225617408752]\n",
      "[0.4293135106563568, 0.9323603510856628]\n",
      "[0.48394203186035156, 0.987982988357544]\n",
      "[0.4727028012275696, 0.9680933356285095]\n",
      "[0.4050706923007965, 0.8748106360435486]\n",
      "[0.40931159257888794, 0.7868453860282898]\n",
      "[0.43976467847824097, 0.7674679160118103]\n",
      "[0.4525997042655945, 0.7895535826683044]\n",
      "[0.37189027667045593, 0.7963020205497742]\n",
      "[0.4647270739078522, 0.7645969390869141]\n",
      "[0.663036048412323, 0.26467379927635193]\n",
      "[0.8460991978645325, 0.3059166669845581]\n",
      "[0.837845504283905, 0.2675537168979645]\n",
      "[0.8168638348579407, 0.2129325419664383]\n",
      "[0.8780339956283569, 0.18877644836902618]\n",
      "[0.8997625112533569, 0.19288237392902374]\n",
      "[0.9046416282653809, 0.20281846821308136]\n",
      "[0.8800734281539917, 0.22955603897571564]\n",
      "[0.887001633644104, 0.20813322067260742]\n",
      "[0.8821795582771301, 0.21264654397964478]\n",
      "[0.8641895055770874, 0.21794922649860382]\n",
      "[0.8535367250442505, 0.2116725891828537]\n",
      "[0.7165368795394897, 0.1518252044916153]\n",
      "[0.36179712414741516, 0.9066006541252136]\n",
      "[0.4171951711177826, 0.9922775030136108]\n",
      "[0.5589326620101929, 1.0119037628173828]\n",
      "[0.5662881135940552, 1.212316632270813]\n",
      "[0.5713208317756653, 1.2389389276504517]\n",
      "[0.5774598717689514, 1.22459077835083]\n",
      "[0.5825192928314209, 1.2361221313476562]\n",
      "[0.5921381115913391, 1.2127496004104614]\n",
      "[0.5887077450752258, 1.2114266157150269]\n",
      "[0.5814656019210815, 1.2213460206985474]\n",
      "[0.801460862159729, 1.124664306640625]\n",
      "[0.8025854825973511, 1.092340111732483]\n",
      "[0.8627954721450806, 1.08626389503479]\n",
      "[0.9624500274658203, 0.8163290619850159]\n",
      "[0.9895764589309692, 0.7856685519218445]\n",
      "[1.0204901695251465, 0.7098448872566223]\n",
      "[0.9471598863601685, 0.2456461787223816]\n",
      "[0.5915836691856384, 0.5823337435722351]\n",
      "[0.5757743120193481, 0.38451164960861206]\n",
      "[0.5470398664474487, 0.8002062439918518]\n",
      "[0.5049325823783875, 0.9222230315208435]\n",
      "[0.4871353209018707, 0.9475027322769165]\n",
      "[0.4761238992214203, 0.9490092396736145]\n",
      "[0.4646429419517517, 0.9427772760391235]\n",
      "[0.6836984157562256, 1.1088969707489014]\n",
      "[0.6745278239250183, 1.2526016235351562]\n",
      "[0.6798645257949829, 1.2791775465011597]\n",
      "[0.6690922975540161, 1.3015488386154175]\n",
      "[0.665974497795105, 1.2767027616500854]\n",
      "[0.6644410490989685, 1.283402919769287]\n",
      "[0.6636360883712769, 1.2474647760391235]\n",
      "[0.6626611948013306, 1.2447432279586792]\n",
      "[0.6622549891471863, 1.2410045862197876]\n"
     ]
    },
    {
     "ename": "KeyboardInterrupt",
     "evalue": "",
     "output_type": "error",
     "traceback": [
      "\u001b[1;31m---------------------------------------------------------------------------\u001b[0m",
      "\u001b[1;31mKeyboardInterrupt\u001b[0m                         Traceback (most recent call last)",
      "\u001b[1;32m<ipython-input-11-3a726c0eb4e1>\u001b[0m in \u001b[0;36m<module>\u001b[1;34m\u001b[0m\n\u001b[0;32m      3\u001b[0m \u001b[1;32mwith\u001b[0m \u001b[0mmp_pose\u001b[0m\u001b[1;33m.\u001b[0m\u001b[0mPose\u001b[0m\u001b[1;33m(\u001b[0m\u001b[0mmin_detection_confidence\u001b[0m\u001b[1;33m=\u001b[0m\u001b[1;36m0.5\u001b[0m\u001b[1;33m,\u001b[0m \u001b[0mmin_tracking_confidence\u001b[0m\u001b[1;33m=\u001b[0m\u001b[1;36m0.5\u001b[0m\u001b[1;33m)\u001b[0m \u001b[1;32mas\u001b[0m \u001b[0mpose\u001b[0m\u001b[1;33m:\u001b[0m\u001b[1;33m\u001b[0m\u001b[1;33m\u001b[0m\u001b[0m\n\u001b[0;32m      4\u001b[0m     \u001b[1;32mwhile\u001b[0m \u001b[0mcap\u001b[0m\u001b[1;33m.\u001b[0m\u001b[0misOpened\u001b[0m\u001b[1;33m(\u001b[0m\u001b[1;33m)\u001b[0m\u001b[1;33m:\u001b[0m\u001b[1;33m\u001b[0m\u001b[1;33m\u001b[0m\u001b[0m\n\u001b[1;32m----> 5\u001b[1;33m         \u001b[0msleep\u001b[0m\u001b[1;33m(\u001b[0m\u001b[1;36m1\u001b[0m\u001b[1;33m)\u001b[0m\u001b[1;33m\u001b[0m\u001b[1;33m\u001b[0m\u001b[0m\n\u001b[0m\u001b[0;32m      6\u001b[0m         \u001b[0mret\u001b[0m\u001b[1;33m,\u001b[0m \u001b[0mframe\u001b[0m \u001b[1;33m=\u001b[0m \u001b[0mcap\u001b[0m\u001b[1;33m.\u001b[0m\u001b[0mread\u001b[0m\u001b[1;33m(\u001b[0m\u001b[1;33m)\u001b[0m\u001b[1;33m\u001b[0m\u001b[1;33m\u001b[0m\u001b[0m\n\u001b[0;32m      7\u001b[0m \u001b[1;33m\u001b[0m\u001b[0m\n",
      "\u001b[1;31mKeyboardInterrupt\u001b[0m: "
     ]
    }
   ],
   "source": [
    "cap = cv2.VideoCapture(0)\n",
    "## Setup mediapipe instance\n",
    "with mp_pose.Pose(min_detection_confidence=0.5, min_tracking_confidence=0.5) as pose:\n",
    "    while cap.isOpened():\n",
    "        sleep(1)\n",
    "        ret, frame = cap.read()\n",
    "        \n",
    "        # Recolor image to RGB\n",
    "        image = cv2.cvtColor(frame, cv2.COLOR_BGR2RGB)\n",
    "        image.flags.writeable = False\n",
    "      \n",
    "        # Make detection\n",
    "        results = pose.process(image)\n",
    "    \n",
    "        # Recolor back to BGR\n",
    "        image.flags.writeable = True\n",
    "        image = cv2.cvtColor(image, cv2.COLOR_RGB2BGR)\n",
    "        \n",
    "        # Extract landmarks\n",
    "        try:\n",
    "            landmarks = results.pose_landmarks.landmark\n",
    "            \n",
    "            # Get coordinates\n",
    "            shoulder = [landmarks[mp_pose.PoseLandmark.LEFT_SHOULDER.value].x,landmarks[mp_pose.PoseLandmark.LEFT_SHOULDER.value].y]\n",
    "            elbow = [landmarks[mp_pose.PoseLandmark.LEFT_ELBOW.value].x,landmarks[mp_pose.PoseLandmark.LEFT_ELBOW.value].y]\n",
    "            wrist = [landmarks[mp_pose.PoseLandmark.LEFT_WRIST.value].x,landmarks[mp_pose.PoseLandmark.LEFT_WRIST.value].y]\n",
    "            print(elbow)\n",
    "            # Calculate angle\n",
    "            angle = calculate_angle(shoulder, elbow, wrist)\n",
    "            \n",
    "            # Visualize angle\n",
    "            cv2.putText(image, str(elbow), \n",
    "                           tuple(np.multiply(elbow, [640, 480]).astype(int)), \n",
    "                           cv2.FONT_HERSHEY_SIMPLEX, 0.5, (255, 255, 255), 2, cv2.LINE_AA\n",
    "                                )\n",
    "                       \n",
    "        except:\n",
    "            pass\n",
    "        \n",
    "        \n",
    "        # Render detections\n",
    "        mp_drawing.draw_landmarks(image, results.pose_landmarks, mp_pose.POSE_CONNECTIONS,\n",
    "                                mp_drawing.DrawingSpec(color=(245,117,66), thickness=2, circle_radius=2), \n",
    "                                mp_drawing.DrawingSpec(color=(245,66,230), thickness=2, circle_radius=2) \n",
    "                                 )               \n",
    "        \n",
    "        cv2.imshow('Mediapipe Feed', image)\n",
    "\n",
    "        if cv2.waitKey(10) & 0xFF == ord('q'):\n",
    "            break\n",
    "\n",
    "    cap.release()\n",
    "    cv2.destroyAllWindows()"
   ]
  },
  {
   "cell_type": "code",
   "execution_count": null,
   "id": "8509b9cd",
   "metadata": {},
   "outputs": [],
   "source": [
    "landmarks[mp_pose.PoseLandmark.LEFT_SHOULDER.value].visibility"
   ]
  },
  {
   "cell_type": "code",
   "execution_count": null,
   "id": "7b3fa29d",
   "metadata": {},
   "outputs": [],
   "source": [
    "tuple(np.multiply(elbow[:2], [640, 480]).astype(int))"
   ]
  },
  {
   "cell_type": "markdown",
   "id": "83e66721",
   "metadata": {},
   "source": [
    "# 3D"
   ]
  },
  {
   "cell_type": "code",
   "execution_count": null,
   "id": "45bde01e",
   "metadata": {},
   "outputs": [],
   "source": [
    "cap = cv2.VideoCapture(0)\n",
    "## Setup mediapipe instance\n",
    "with mp_pose.Pose(min_detection_confidence=0.5, min_tracking_confidence=0.5) as pose:\n",
    "    while cap.isOpened():\n",
    "        ret, frame = cap.read()\n",
    "        \n",
    "        # Recolor image to RGB\n",
    "        image = cv2.cvtColor(frame, cv2.COLOR_BGR2RGB)\n",
    "        image.flags.writeable = False\n",
    "      \n",
    "        # Make detection\n",
    "        results = pose.process(image)\n",
    "    \n",
    "        # Recolor back to BGR\n",
    "        image.flags.writeable = True\n",
    "        image = cv2.cvtColor(image, cv2.COLOR_RGB2BGR)\n",
    "        \n",
    "        # Extract landmarks\n",
    "        try:\n",
    "            print('\\n')\n",
    "            sleep(0.2)\n",
    "            landmarks = results.pose_landmarks.landmark\n",
    "            \n",
    "            # Get coordinates\n",
    "            shoulder = [\n",
    "                landmarks[mp_pose.PoseLandmark.LEFT_SHOULDER.value].x,\n",
    "                landmarks[mp_pose.PoseLandmark.LEFT_SHOULDER.value].y,\n",
    "                landmarks[mp_pose.PoseLandmark.LEFT_SHOULDER.value].z\n",
    "            ]\n",
    "            elbow = [\n",
    "                landmarks[mp_pose.PoseLandmark.LEFT_ELBOW.value].x,\n",
    "                landmarks[mp_pose.PoseLandmark.LEFT_ELBOW.value].y,\n",
    "                landmarks[mp_pose.PoseLandmark.LEFT_ELBOW.value].z\n",
    "            ]\n",
    "            wrist = [\n",
    "                landmarks[mp_pose.PoseLandmark.LEFT_WRIST.value].x,\n",
    "                landmarks[mp_pose.PoseLandmark.LEFT_WRIST.value].y,\n",
    "                landmarks[mp_pose.PoseLandmark.LEFT_WRIST.value].z\n",
    "            ]\n",
    "            # Calculate angle\n",
    "            #angle = calculate_angle(shoulder, elbow, wrist)\n",
    "            angle = calc_angle_3d(\n",
    "                shoulder,\n",
    "                elbow,\n",
    "                wrist\n",
    "            )\n",
    "            '''print(shoulder)\n",
    "            print(elbow)\n",
    "            print(wrist)'''\n",
    "            print(angle)\n",
    "            # Visualize angle\n",
    "            print('test1')\n",
    "            print(tuple(np.multiply(elbow[:2], [640, 480]).astype(int)))\n",
    "            print('test2')\n",
    "            cv2.putText(image, str(angle), \n",
    "                           tuple(np.multiply(elbow[:2], [640, 480]).astype(int)), \n",
    "                           cv2.FONT_HERSHEY_SIMPLEX, 0.5, (255, 255, 255), 2, cv2.LINE_AA\n",
    "                                )\n",
    "            print('test3')\n",
    "        except:\n",
    "            pass\n",
    "        \n",
    "        \n",
    "        # Render detections\n",
    "        mp_drawing.draw_landmarks(image, results.pose_landmarks, mp_pose.POSE_CONNECTIONS,\n",
    "                                mp_drawing.DrawingSpec(color=(245,117,66), thickness=2, circle_radius=2), \n",
    "                                mp_drawing.DrawingSpec(color=(245,66,230), thickness=2, circle_radius=2) \n",
    "                                 )               \n",
    "        \n",
    "        cv2.imshow('Mediapipe Feed', image)\n",
    "\n",
    "        if cv2.waitKey(10) & 0xFF == ord('q'):\n",
    "            break\n",
    "\n",
    "    cap.release()\n",
    "    cv2.destroyAllWindows()"
   ]
  },
  {
   "cell_type": "code",
   "execution_count": null,
   "id": "3d07545f",
   "metadata": {},
   "outputs": [],
   "source": [
    "angle"
   ]
  },
  {
   "cell_type": "code",
   "execution_count": null,
   "id": "fbc94b7d",
   "metadata": {},
   "outputs": [],
   "source": [
    "print('dsf')\n",
    "sleep(2)\n",
    "print('lj')"
   ]
  },
  {
   "cell_type": "code",
   "execution_count": null,
   "id": "97802e16",
   "metadata": {},
   "outputs": [],
   "source": [
    "LEFT_SHOULDER"
   ]
  },
  {
   "cell_type": "code",
   "execution_count": null,
   "id": "017241ba",
   "metadata": {},
   "outputs": [],
   "source": [
    "lm_11 = [landmarks[mp_pose.PoseLandmark.LEFT_SHOULDER.value].x,\n",
    "        landmarks[mp_pose.PoseLandmark.LEFT_SHOULDER.value].y]"
   ]
  },
  {
   "cell_type": "code",
   "execution_count": null,
   "id": "f5d0f721",
   "metadata": {},
   "outputs": [],
   "source": [
    "landmark_dict = {}"
   ]
  },
  {
   "cell_type": "code",
   "execution_count": null,
   "id": "954fc8f4",
   "metadata": {},
   "outputs": [],
   "source": [
    "# Shoulders\n",
    "(np.array(landmark_dict['11']) + np.array(landmark_dict['11']))/2"
   ]
  },
  {
   "cell_type": "code",
   "execution_count": null,
   "id": "d0cdb608",
   "metadata": {},
   "outputs": [],
   "source": [
    "# Nose\n",
    "landmark_dict['0'] = [landmarks[mp_pose.PoseLandmark.NOSE.value].x,\n",
    "        landmarks[mp_pose.PoseLandmark.NOSE.value].y]\n",
    "# Shoulders\n",
    "landmark_dict['11'] = [landmarks[mp_pose.PoseLandmark.LEFT_SHOULDER.value].x,\n",
    "        landmarks[mp_pose.PoseLandmark.LEFT_SHOULDER.value].y]\n",
    "landmark_dict['12'] = [landmarks[mp_pose.PoseLandmark.RIGHT_SHOULDER.value].x,\n",
    "        landmarks[mp_pose.PoseLandmark.RIGHT_SHOULDER.value].y]\n",
    "# Sternum\n",
    "landmark_dict['11-12'] = (np.array(landmark_dict['11']) + np.array(landmark_dict['12']))/2\n",
    "# Elbows\n",
    "landmark_dict['13'] = [landmarks[mp_pose.PoseLandmark.LEFT_ELBOW.value].x,\n",
    "        landmarks[mp_pose.PoseLandmark.LEFT_ELBOW.value].y]\n",
    "landmark_dict['14'] = [landmarks[mp_pose.PoseLandmark.RIGHT_ELBOW.value].x,\n",
    "        landmarks[mp_pose.PoseLandmark.RIGHT_ELBOW.value].y]\n",
    "# Wrists\n",
    "landmark_dict['15'] = [landmarks[mp_pose.PoseLandmark.LEFT_WRIST.value].x,\n",
    "        landmarks[mp_pose.PoseLandmark.LEFT_WRIST.value].y]\n",
    "landmark_dict['16'] = [landmarks[mp_pose.PoseLandmark.RIGHT_WRIST.value].x,\n",
    "        landmarks[mp_pose.PoseLandmark.RIGHT_WRIST.value].y]\n",
    "# Hips\n",
    "landmark_dict['23'] = [landmarks[mp_pose.PoseLandmark.LEFT_HIP.value].x,\n",
    "        landmarks[mp_pose.PoseLandmark.LEFT_HIP.value].y]\n",
    "landmark_dict['24'] = [landmarks[mp_pose.PoseLandmark.RIGHT_HIP.value].x,\n",
    "        landmarks[mp_pose.PoseLandmark.RIGHT_HIP.value].y]\n",
    "# Pubic Bone\n",
    "landmark_dict['23-24'] = (np.array(landmark_dict['23']) + np.array(landmark_dict['24']))/2\n",
    "\n",
    "# Knees\n",
    "landmark_dict['25'] = [landmarks[mp_pose.PoseLandmark.LEFT_KNEE.value].x,\n",
    "        landmarks[mp_pose.PoseLandmark.LEFT_KNEE.value].y]\n",
    "landmark_dict['26'] = [landmarks[mp_pose.PoseLandmark.RIGHT_KNEE.value].x,\n",
    "        landmarks[mp_pose.PoseLandmark.RIGHT_KNEE.value].y]\n",
    "# Ankles\n",
    "landmark_dict['27'] = [landmarks[mp_pose.PoseLandmark.LEFT_ANKLE.value].x,\n",
    "        landmarks[mp_pose.PoseLandmark.LEFT_ANKLE.value].y]\n",
    "landmark_dict['28'] = [landmarks[mp_pose.PoseLandmark.RIGHT_ANKLE.value].x,\n",
    "        landmarks[mp_pose.PoseLandmark.RIGHT_ANKLE.value].y]"
   ]
  },
  {
   "cell_type": "code",
   "execution_count": null,
   "id": "1cc2ffef",
   "metadata": {},
   "outputs": [],
   "source": [
    "angles = {}"
   ]
  },
  {
   "cell_type": "code",
   "execution_count": null,
   "id": "65d2de40",
   "metadata": {},
   "outputs": [],
   "source": [
    "angles = {}\n",
    "angle_keys = [\n",
    "    '0.11-12.23-24', # Nose to torso\n",
    "    '12.11.13', '23.11.13', '23.11.12', # Left shoulder ()\n",
    "    '11.12.14', '24.12.14', '24.12.11', # right shoulder # left elbow\n",
    "    '11.13.15', '12.14.16', # both elbows\n",
    "    '11.23.25', '11.23.24', '25.23.24', # left hip\n",
    "    '12.24.26', '12.24.23', '26.24.23', # right hip\n",
    "    '23.25.27', '24.26.28', #both knees\n",
    "    '28.24.16', '27.23.15', # wrist-hip-ankle\n",
    "] \n",
    "for key in angle_keys:\n",
    "    a, b, c = [landmark_dict[number] for number in key.split('.')]\n",
    "    angles[key] = calculate_angle(a, b, c)"
   ]
  },
  {
   "cell_type": "code",
   "execution_count": null,
   "id": "1ba1472d",
   "metadata": {},
   "outputs": [],
   "source": [
    "for key in angle_keys:\n",
    "    a, b, c = [landmark_dict[number] for number in key.split('.')]\n",
    "    angles[key] = calculate_angle(a, b, c)"
   ]
  },
  {
   "cell_type": "code",
   "execution_count": null,
   "id": "3fdd6b92",
   "metadata": {},
   "outputs": [],
   "source": [
    "angles"
   ]
  },
  {
   "cell_type": "markdown",
   "id": "f8762e8c",
   "metadata": {},
   "source": [
    "# Shoulders\n",
    "lm_11 = [landmarks[mp_pose.PoseLandmark.LEFT_SHOULDER.value].x,\n",
    "        landmarks[mp_pose.PoseLandmark.LEFT_SHOULDER.value].y]\n",
    "lm_12 = [landmarks[mp_pose.PoseLandmark.RIGHT_SHOULDER.value].x,\n",
    "        landmarks[mp_pose.PoseLandmark.RIGHT_SHOULDER.value].y]\n",
    "# Elbows\n",
    "lm_13 = [landmarks[mp_pose.PoseLandmark.LEFT_ELBOW.value].x,\n",
    "        landmarks[mp_pose.PoseLandmark.LEFT_ELBOW.value].y]\n",
    "lm_14 = [landmarks[mp_pose.PoseLandmark.RIGHT_ELBOW.value].x,\n",
    "        landmarks[mp_pose.PoseLandmark.RIGHT_ELBOW.value].y]\n",
    "# Wrists\n",
    "lm_15 = [landmarks[mp_pose.PoseLandmark.LEFT_WRIST.value].x,\n",
    "        landmarks[mp_pose.PoseLandmark.LEFT_WRIST.value].y]\n",
    "lm_16 = [landmarks[mp_pose.PoseLandmark.RIGHT_WRIST.value].x,\n",
    "        landmarks[mp_pose.PoseLandmark.RIGHT_WRIST.value].y]\n",
    "# Hips\n",
    "lm_23 = [landmarks[mp_pose.PoseLandmark.LEFT_HIP.value].x,\n",
    "        landmarks[mp_pose.PoseLandmark.LEFT_HIP.value].y]\n",
    "lm_24 = [landmarks[mp_pose.PoseLandmark.RIGHT_HIP.value].x,\n",
    "        landmarks[mp_pose.PoseLandmark.RIGHT_HIP.value].y]\n",
    "# Knees\n",
    "lm_25 = [landmarks[mp_pose.PoseLandmark.LEFT_KNEE.value].x,\n",
    "        landmarks[mp_pose.PoseLandmark.LEFT_KNEE.value].y]\n",
    "lm_26 = [landmarks[mp_pose.PoseLandmark.RIGHT_KNEE.value].x,\n",
    "        landmarks[mp_pose.PoseLandmark.RIGHT_KNEE.value].y]\n",
    "# Ankles\n",
    "lm_27 = [landmarks[mp_pose.PoseLandmark.LEFT_ANKLE.value].x,\n",
    "        landmarks[mp_pose.PoseLandmark.LEFT_ANKLE.value].y]\n",
    "lm_28 = [landmarks[mp_pose.PoseLandmark.RIGHT_ANKLE.value].x,\n",
    "        landmarks[mp_pose.PoseLandmark.RIGHT_ANKLE.value].y]"
   ]
  },
  {
   "cell_type": "code",
   "execution_count": null,
   "id": "cd0ca3e1",
   "metadata": {},
   "outputs": [],
   "source": [
    "# Angles\n",
    "Angles = []\n",
    "# 11 - 12, 13, 23\\\n",
    "\n",
    "# "
   ]
  },
  {
   "cell_type": "code",
   "execution_count": null,
   "id": "9cd75d99",
   "metadata": {},
   "outputs": [],
   "source": [
    "landmarks_list = [lm_11, lm_12, \n",
    "                  lm_13, lm_14, \n",
    "                  lm_15, lm_16, \n",
    "                  lm_23, lm_24, \n",
    "                  lm_25, lm_26, \n",
    "                  lm_27, lm_28]"
   ]
  },
  {
   "cell_type": "code",
   "execution_count": null,
   "id": "1bf0f7ac",
   "metadata": {},
   "outputs": [],
   "source": [
    "landmarks_"
   ]
  },
  {
   "cell_type": "code",
   "execution_count": null,
   "id": "ca8d23b3",
   "metadata": {},
   "outputs": [],
   "source": [
    "lm_11"
   ]
  },
  {
   "cell_type": "markdown",
   "id": "bdea1fed",
   "metadata": {},
   "source": [
    "# Machine Learning"
   ]
  },
  {
   "cell_type": "code",
   "execution_count": null,
   "id": "84622e4a",
   "metadata": {},
   "outputs": [],
   "source": [
    "import os"
   ]
  },
  {
   "cell_type": "code",
   "execution_count": null,
   "id": "e0d6d74d",
   "metadata": {},
   "outputs": [],
   "source": [
    "os.getcwd()"
   ]
  },
  {
   "cell_type": "code",
   "execution_count": null,
   "id": "35b6dd0b",
   "metadata": {},
   "outputs": [],
   "source": [
    "def fast_scandir(dirname):\n",
    "    subfolders= [f.path for f in os.scandir(dirname) if f.is_dir()]\n",
    "    for dirname in list(subfolders):\n",
    "        subfolders.extend(fast_scandir(dirname))\n",
    "    return subfolders"
   ]
  },
  {
   "cell_type": "code",
   "execution_count": null,
   "id": "a61f8963",
   "metadata": {},
   "outputs": [],
   "source": [
    "directory = 'C:\\\\Users\\\\simon\\\\PycharmProjects\\\\yoga_gesture_detection\\\\pose_recognition_data\\\\training data\\\\training frames'"
   ]
  },
  {
   "cell_type": "code",
   "execution_count": null,
   "id": "9f36b997",
   "metadata": {},
   "outputs": [],
   "source": [
    "folders = fast_scandir(directory)[:2] + fast_scandir(directory)[4:]"
   ]
  },
  {
   "cell_type": "code",
   "execution_count": null,
   "id": "c97f8085",
   "metadata": {},
   "outputs": [],
   "source": [
    "poses = [pose.split('- ')[1] for pose in folders]"
   ]
  },
  {
   "cell_type": "code",
   "execution_count": null,
   "id": "b6663e38",
   "metadata": {},
   "outputs": [],
   "source": [
    "data = {}\n",
    "for pose in poses:\n",
    "    data[pose] = []"
   ]
  },
  {
   "cell_type": "code",
   "execution_count": null,
   "id": "b3446aad",
   "metadata": {},
   "outputs": [],
   "source": [
    "from glob import glob\n",
    "glob(\"/yoga_gesture_detection/*/\")"
   ]
  },
  {
   "cell_type": "code",
   "execution_count": null,
   "id": "8c2bda8a",
   "metadata": {},
   "outputs": [],
   "source": [
    "fast_scandir(folders[0])"
   ]
  },
  {
   "cell_type": "code",
   "execution_count": null,
   "id": "5221705e",
   "metadata": {},
   "outputs": [],
   "source": [
    "data = []"
   ]
  },
  {
   "cell_type": "code",
   "execution_count": null,
   "id": "7890bc27",
   "metadata": {},
   "outputs": [],
   "source": [
    "angle_keys = [\n",
    "        '0.11-12.23-24', # Nose to torso\n",
    "        '12.11.13', '23.11.13', '23.11.12', # Left shoulder ()\n",
    "        '11.12.14', '24.12.14', '24.12.11', # right shoulder # left elbow\n",
    "        '11.13.15', '12.14.16', # both elbows\n",
    "        '11.23.25', '11.23.24', '25.23.24', # left hip\n",
    "        '12.24.26', '12.24.23', '26.24.23', # right hip\n",
    "        '23.25.27', '24.26.28', #both knees\n",
    "        '28.24.16', '27.23.15', # wrist-hip-ankle\n",
    "    ] \n",
    "\n",
    "for folder in folders:\n",
    "    pose = folder.split('- ')[1]\n",
    "    paths = glob(folders[0]+'/*')\n",
    "    for path in paths:\n",
    "        print(path.split('training frames'))\n",
    "        imaage = cv2.imread(path)\n",
    "        # Recolor image to RGB\n",
    "        image = cv2.cvtColor(imaage, cv2.COLOR_BGR2RGB)\n",
    "        image.flags.writeable = False\n",
    "\n",
    "        # Make detection\n",
    "        results = mp_pose.Pose(min_detection_confidence=0.5, min_tracking_confidence=0.5).process(image)\n",
    "        landmarks = results.pose_landmarks.landmark\n",
    "        landmark_dict = {}\n",
    "\n",
    "        # Nose\n",
    "        landmark_dict['0'] = [landmarks[mp_pose.PoseLandmark.NOSE.value].x,\n",
    "                landmarks[mp_pose.PoseLandmark.NOSE.value].y]\n",
    "        # Shoulders\n",
    "        landmark_dict['11'] = [landmarks[mp_pose.PoseLandmark.LEFT_SHOULDER.value].x,\n",
    "                landmarks[mp_pose.PoseLandmark.LEFT_SHOULDER.value].y]\n",
    "        landmark_dict['12'] = [landmarks[mp_pose.PoseLandmark.RIGHT_SHOULDER.value].x,\n",
    "                landmarks[mp_pose.PoseLandmark.RIGHT_SHOULDER.value].y]\n",
    "        # Sternum\n",
    "        landmark_dict['11-12'] = (np.array(landmark_dict['11']) + np.array(landmark_dict['12']))/2\n",
    "        # Elbows\n",
    "        landmark_dict['13'] = [landmarks[mp_pose.PoseLandmark.LEFT_ELBOW.value].x,\n",
    "                landmarks[mp_pose.PoseLandmark.LEFT_ELBOW.value].y]\n",
    "        landmark_dict['14'] = [landmarks[mp_pose.PoseLandmark.RIGHT_ELBOW.value].x,\n",
    "                landmarks[mp_pose.PoseLandmark.RIGHT_ELBOW.value].y]\n",
    "        # Wrists\n",
    "        landmark_dict['15'] = [landmarks[mp_pose.PoseLandmark.LEFT_WRIST.value].x,\n",
    "                landmarks[mp_pose.PoseLandmark.LEFT_WRIST.value].y]\n",
    "        landmark_dict['16'] = [landmarks[mp_pose.PoseLandmark.RIGHT_WRIST.value].x,\n",
    "                landmarks[mp_pose.PoseLandmark.RIGHT_WRIST.value].y]\n",
    "        # Hips\n",
    "        landmark_dict['23'] = [landmarks[mp_pose.PoseLandmark.LEFT_HIP.value].x,\n",
    "                landmarks[mp_pose.PoseLandmark.LEFT_HIP.value].y]\n",
    "        landmark_dict['24'] = [landmarks[mp_pose.PoseLandmark.RIGHT_HIP.value].x,\n",
    "                landmarks[mp_pose.PoseLandmark.RIGHT_HIP.value].y]\n",
    "        # Pubic Bone\n",
    "        landmark_dict['23-24'] = (np.array(landmark_dict['23']) + np.array(landmark_dict['24']))/2\n",
    "\n",
    "        # Knees\n",
    "        landmark_dict['25'] = [landmarks[mp_pose.PoseLandmark.LEFT_KNEE.value].x,\n",
    "                landmarks[mp_pose.PoseLandmark.LEFT_KNEE.value].y]\n",
    "        landmark_dict['26'] = [landmarks[mp_pose.PoseLandmark.RIGHT_KNEE.value].x,\n",
    "                landmarks[mp_pose.PoseLandmark.RIGHT_KNEE.value].y]\n",
    "        # Ankles\n",
    "        landmark_dict['27'] = [landmarks[mp_pose.PoseLandmark.LEFT_ANKLE.value].x,\n",
    "                landmarks[mp_pose.PoseLandmark.LEFT_ANKLE.value].y]\n",
    "        landmark_dict['28'] = [landmarks[mp_pose.PoseLandmark.RIGHT_ANKLE.value].x,\n",
    "                landmarks[mp_pose.PoseLandmark.RIGHT_ANKLE.value].y]\n",
    "        angles = {}\n",
    "\n",
    "        for key in angle_keys:\n",
    "            a, b, c = [landmark_dict[number] for number in key.split('.')]\n",
    "            angles[key] = calculate_angle(a, b, c)\n",
    "        angles['pose'] = pose\n",
    "        data.append(angles)"
   ]
  },
  {
   "cell_type": "code",
   "execution_count": null,
   "id": "20f737f1",
   "metadata": {},
   "outputs": [],
   "source": [
    "data"
   ]
  },
  {
   "cell_type": "code",
   "execution_count": null,
   "id": "9cba27eb",
   "metadata": {},
   "outputs": [],
   "source": [
    "image."
   ]
  },
  {
   "cell_type": "code",
   "execution_count": null,
   "id": "003671b6",
   "metadata": {},
   "outputs": [],
   "source": [
    "\n",
    "# Recolor image to RGB\n",
    "image = cv2.cvtColor(imaage, cv2.COLOR_BGR2RGB)\n",
    "image.flags.writeable = False\n",
    "\n",
    "# Make detection\n",
    "results = mp_pose.Pose(min_detection_confidence=0.5, min_tracking_confidence=0.5).process(image)"
   ]
  },
  {
   "cell_type": "code",
   "execution_count": null,
   "id": "0deeb890",
   "metadata": {},
   "outputs": [],
   "source": [
    "landmarks = results.pose_landmarks.landmark"
   ]
  },
  {
   "cell_type": "code",
   "execution_count": null,
   "id": "bf6ec54c",
   "metadata": {},
   "outputs": [],
   "source": [
    "landmark_dict = {}\n",
    "\n",
    "# Nose\n",
    "landmark_dict['0'] = [landmarks[mp_pose.PoseLandmark.NOSE.value].x,\n",
    "        landmarks[mp_pose.PoseLandmark.NOSE.value].y]\n",
    "# Shoulders\n",
    "landmark_dict['11'] = [landmarks[mp_pose.PoseLandmark.LEFT_SHOULDER.value].x,\n",
    "        landmarks[mp_pose.PoseLandmark.LEFT_SHOULDER.value].y]\n",
    "landmark_dict['12'] = [landmarks[mp_pose.PoseLandmark.RIGHT_SHOULDER.value].x,\n",
    "        landmarks[mp_pose.PoseLandmark.RIGHT_SHOULDER.value].y]\n",
    "# Sternum\n",
    "landmark_dict['11-12'] = (np.array(landmark_dict['11']) + np.array(landmark_dict['12']))/2\n",
    "# Elbows\n",
    "landmark_dict['13'] = [landmarks[mp_pose.PoseLandmark.LEFT_ELBOW.value].x,\n",
    "        landmarks[mp_pose.PoseLandmark.LEFT_ELBOW.value].y]\n",
    "landmark_dict['14'] = [landmarks[mp_pose.PoseLandmark.RIGHT_ELBOW.value].x,\n",
    "        landmarks[mp_pose.PoseLandmark.RIGHT_ELBOW.value].y]\n",
    "# Wrists\n",
    "landmark_dict['15'] = [landmarks[mp_pose.PoseLandmark.LEFT_WRIST.value].x,\n",
    "        landmarks[mp_pose.PoseLandmark.LEFT_WRIST.value].y]\n",
    "landmark_dict['16'] = [landmarks[mp_pose.PoseLandmark.RIGHT_WRIST.value].x,\n",
    "        landmarks[mp_pose.PoseLandmark.RIGHT_WRIST.value].y]\n",
    "# Hips\n",
    "landmark_dict['23'] = [landmarks[mp_pose.PoseLandmark.LEFT_HIP.value].x,\n",
    "        landmarks[mp_pose.PoseLandmark.LEFT_HIP.value].y]\n",
    "landmark_dict['24'] = [landmarks[mp_pose.PoseLandmark.RIGHT_HIP.value].x,\n",
    "        landmarks[mp_pose.PoseLandmark.RIGHT_HIP.value].y]\n",
    "# Pubic Bone\n",
    "landmark_dict['23-24'] = (np.array(landmark_dict['23']) + np.array(landmark_dict['24']))/2\n",
    "\n",
    "# Knees\n",
    "landmark_dict['25'] = [landmarks[mp_pose.PoseLandmark.LEFT_KNEE.value].x,\n",
    "        landmarks[mp_pose.PoseLandmark.LEFT_KNEE.value].y]\n",
    "landmark_dict['26'] = [landmarks[mp_pose.PoseLandmark.RIGHT_KNEE.value].x,\n",
    "        landmarks[mp_pose.PoseLandmark.RIGHT_KNEE.value].y]\n",
    "# Ankles\n",
    "landmark_dict['27'] = [landmarks[mp_pose.PoseLandmark.LEFT_ANKLE.value].x,\n",
    "        landmarks[mp_pose.PoseLandmark.LEFT_ANKLE.value].y]\n",
    "landmark_dict['28'] = [landmarks[mp_pose.PoseLandmark.RIGHT_ANKLE.value].x,\n",
    "        landmarks[mp_pose.PoseLandmark.RIGHT_ANKLE.value].y]\n"
   ]
  },
  {
   "cell_type": "code",
   "execution_count": null,
   "id": "68c0955e",
   "metadata": {},
   "outputs": [],
   "source": [
    "angles = {}\n",
    "angle_keys = [\n",
    "    '0.11-12.23-24', # Nose to torso\n",
    "    '12.11.13', '23.11.13', '23.11.12', # Left shoulder ()\n",
    "    '11.12.14', '24.12.14', '24.12.11', # right shoulder # left elbow\n",
    "    '11.13.15', '12.14.16', # both elbows\n",
    "    '11.23.25', '11.23.24', '25.23.24', # left hip\n",
    "    '12.24.26', '12.24.23', '26.24.23', # right hip\n",
    "    '23.25.27', '24.26.28', #both knees\n",
    "    '28.24.16', '27.23.15', # wrist-hip-ankle\n",
    "] \n",
    "for key in angle_keys:\n",
    "    a, b, c = [landmark_dict[number] for number in key.split('.')]\n",
    "    angles[key] = calculate_angle(a, b, c)"
   ]
  }
 ],
 "metadata": {
  "kernelspec": {
   "display_name": "cv_yoga",
   "language": "python",
   "name": "cv_yoga"
  },
  "language_info": {
   "codemirror_mode": {
    "name": "ipython",
    "version": 3
   },
   "file_extension": ".py",
   "mimetype": "text/x-python",
   "name": "python",
   "nbconvert_exporter": "python",
   "pygments_lexer": "ipython3",
   "version": "3.9.4"
  }
 },
 "nbformat": 4,
 "nbformat_minor": 5
}
