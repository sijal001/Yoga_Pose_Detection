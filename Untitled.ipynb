{
 "cells": [
  {
   "cell_type": "code",
   "execution_count": 1,
   "id": "6250a9b3",
   "metadata": {},
   "outputs": [],
   "source": [
    "import cv2\n",
    "import mediapipe as mp\n",
    "import numpy as np\n",
    "from time import sleep\n",
    "mp_drawing = mp.solutions.drawing_utils\n",
    "mp_pose = mp.solutions.pose"
   ]
  },
  {
   "cell_type": "code",
   "execution_count": 2,
   "id": "40d29861",
   "metadata": {},
   "outputs": [
    {
     "ename": "KeyboardInterrupt",
     "evalue": "",
     "output_type": "error",
     "traceback": [
      "\u001b[1;31m---------------------------------------------------------------------------\u001b[0m",
      "\u001b[1;31mKeyboardInterrupt\u001b[0m                         Traceback (most recent call last)",
      "\u001b[1;32m<ipython-input-2-ec1bcba91a16>\u001b[0m in \u001b[0;36m<module>\u001b[1;34m\u001b[0m\n\u001b[0;32m      2\u001b[0m \u001b[0mcap\u001b[0m \u001b[1;33m=\u001b[0m \u001b[0mcv2\u001b[0m\u001b[1;33m.\u001b[0m\u001b[0mVideoCapture\u001b[0m\u001b[1;33m(\u001b[0m\u001b[1;36m0\u001b[0m\u001b[1;33m)\u001b[0m\u001b[1;33m\u001b[0m\u001b[1;33m\u001b[0m\u001b[0m\n\u001b[0;32m      3\u001b[0m \u001b[1;32mwhile\u001b[0m \u001b[0mcap\u001b[0m\u001b[1;33m.\u001b[0m\u001b[0misOpened\u001b[0m\u001b[1;33m(\u001b[0m\u001b[1;33m)\u001b[0m\u001b[1;33m:\u001b[0m\u001b[1;33m\u001b[0m\u001b[1;33m\u001b[0m\u001b[0m\n\u001b[1;32m----> 4\u001b[1;33m     \u001b[0mret\u001b[0m\u001b[1;33m,\u001b[0m \u001b[0mframe\u001b[0m \u001b[1;33m=\u001b[0m \u001b[0mcap\u001b[0m\u001b[1;33m.\u001b[0m\u001b[0mread\u001b[0m\u001b[1;33m(\u001b[0m\u001b[1;33m)\u001b[0m\u001b[1;33m\u001b[0m\u001b[1;33m\u001b[0m\u001b[0m\n\u001b[0m\u001b[0;32m      5\u001b[0m     \u001b[0mcv2\u001b[0m\u001b[1;33m.\u001b[0m\u001b[0mimshow\u001b[0m\u001b[1;33m(\u001b[0m\u001b[1;34m'Mediapipe Feed'\u001b[0m\u001b[1;33m,\u001b[0m \u001b[0mframe\u001b[0m\u001b[1;33m)\u001b[0m\u001b[1;33m\u001b[0m\u001b[1;33m\u001b[0m\u001b[0m\n\u001b[0;32m      6\u001b[0m \u001b[1;33m\u001b[0m\u001b[0m\n",
      "\u001b[1;31mKeyboardInterrupt\u001b[0m: "
     ]
    }
   ],
   "source": [
    "# VIDEO FEED\n",
    "cap = cv2.VideoCapture(0)\n",
    "while cap.isOpened():\n",
    "    ret, frame = cap.read()\n",
    "    cv2.imshow('Mediapipe Feed', frame)\n",
    "    \n",
    "    if cv2.waitKey(10) & 0xFF == ord('q'):\n",
    "        break\n",
    "        \n",
    "cap.release()\n",
    "\n",
    "cv2.destroyAllWindows()"
   ]
  },
  {
   "cell_type": "markdown",
   "id": "bd5fb3e4",
   "metadata": {},
   "source": [
    "# 1. Make Detections"
   ]
  },
  {
   "cell_type": "code",
   "execution_count": null,
   "id": "2c65d152",
   "metadata": {},
   "outputs": [],
   "source": [
    "cap = cv2.VideoCapture(0)\n",
    "## Setup mediapipe instance\n",
    "with mp_pose.Pose(min_detection_confidence=0.5, min_tracking_confidence=0.5) as pose:\n",
    "    while cap.isOpened():\n",
    "        ret, frame = cap.read()\n",
    "        \n",
    "        # Recolor image to RGB\n",
    "        image = cv2.cvtColor(frame, cv2.COLOR_BGR2RGB)\n",
    "        image.flags.writeable = False\n",
    "      \n",
    "        # Make detection\n",
    "        results = pose.process(image)\n",
    "    \n",
    "        # Recolor back to BGR\n",
    "        image.flags.writeable = True\n",
    "        image = cv2.cvtColor(image, cv2.COLOR_RGB2BGR)\n",
    "        \n",
    "        # Render detections\n",
    "        mp_drawing.draw_landmarks(image, results.pose_landmarks, mp_pose.POSE_CONNECTIONS,\n",
    "                                mp_drawing.DrawingSpec(color=(245,117,66), thickness=2, circle_radius=2), \n",
    "                                mp_drawing.DrawingSpec(color=(245,66,230), thickness=2, circle_radius=2) \n",
    "                                 )               \n",
    "        \n",
    "        cv2.imshow('Mediapipe Feed', image)\n",
    "\n",
    "        if cv2.waitKey(10) & 0xFF == ord('q'):\n",
    "            break\n",
    "\n",
    "    cap.release()\n",
    "    cv2.destroyAllWindows()"
   ]
  },
  {
   "cell_type": "code",
   "execution_count": null,
   "id": "3c51cbb5",
   "metadata": {},
   "outputs": [],
   "source": [
    "cap.isOpened()"
   ]
  },
  {
   "cell_type": "code",
   "execution_count": null,
   "id": "e62a342d",
   "metadata": {},
   "outputs": [],
   "source": [
    "mp_drawing.DrawingSpec??"
   ]
  },
  {
   "cell_type": "code",
   "execution_count": null,
   "id": "ce3f45da",
   "metadata": {},
   "outputs": [],
   "source": [
    "cap = cv2.VideoCapture(0)\n",
    "## Setup mediapipe instance\n",
    "with mp_pose.Pose(min_detection_confidence=0.5, min_tracking_confidence=0.5) as pose:\n",
    "    while cap.isOpened():\n",
    "        ret, frame = cap.read()\n",
    "        \n",
    "        # Recolor image to RGB\n",
    "        image = cv2.cvtColor(frame, cv2.COLOR_BGR2RGB)\n",
    "        image.flags.writeable = False\n",
    "      \n",
    "        # Make detection\n",
    "        results = pose.process(image)\n",
    "    \n",
    "        # Recolor back to BGR\n",
    "        image.flags.writeable = True\n",
    "        image = cv2.cvtColor(image, cv2.COLOR_RGB2BGR)\n",
    "        \n",
    "        # Extract landmarks\n",
    "        try:\n",
    "            landmarks = results.pose_landmarks.landmark\n",
    "            print(landmarks)\n",
    "        except:\n",
    "            pass\n",
    "        \n",
    "        \n",
    "        # Render detections\n",
    "        mp_drawing.draw_landmarks(image, results.pose_landmarks, mp_pose.POSE_CONNECTIONS,\n",
    "                                mp_drawing.DrawingSpec(color=(245,117,66), thickness=2, circle_radius=2), \n",
    "                                mp_drawing.DrawingSpec(color=(245,66,230), thickness=2, circle_radius=2) \n",
    "                                 )               \n",
    "        \n",
    "        cv2.imshow('Mediapipe Feed', image)\n",
    "\n",
    "        if cv2.waitKey(10) & 0xFF == ord('q'):\n",
    "            break\n",
    "\n",
    "    cap.release()\n",
    "    cv2.destroyAllWindows()"
   ]
  },
  {
   "cell_type": "code",
   "execution_count": null,
   "id": "0b093d38",
   "metadata": {},
   "outputs": [],
   "source": [
    "len(landmarks)"
   ]
  },
  {
   "cell_type": "code",
   "execution_count": null,
   "id": "97c5411a",
   "metadata": {},
   "outputs": [],
   "source": [
    "for lndmrk in mp_pose.PoseLandmark:\n",
    "    print(lndmrk)"
   ]
  },
  {
   "cell_type": "code",
   "execution_count": null,
   "id": "8797820a",
   "metadata": {},
   "outputs": [],
   "source": [
    "landmarks[mp_pose.PoseLandmark.LEFT_SHOULDER.value].visibility"
   ]
  },
  {
   "cell_type": "code",
   "execution_count": null,
   "id": "23cf87cc",
   "metadata": {},
   "outputs": [],
   "source": [
    "landmarks[mp_pose.PoseLandmark.LEFT_ELBOW.value]"
   ]
  },
  {
   "cell_type": "code",
   "execution_count": 3,
   "id": "fb843c6d",
   "metadata": {},
   "outputs": [],
   "source": [
    "def calculate_angle(a,b,c):\n",
    "    a = np.array(a) # First\n",
    "    b = np.array(b) # Mid\n",
    "    c = np.array(c) # End\n",
    "    \n",
    "    radians = np.arctan2(c[1]-b[1], c[0]-b[0]) - np.arctan2(a[1]-b[1], a[0]-b[0])\n",
    "    angle = np.abs(radians*180.0/np.pi)\n",
    "    \n",
    "    if angle >180.0:\n",
    "        angle = 360-angle\n",
    "        \n",
    "    return angle"
   ]
  },
  {
   "cell_type": "code",
   "execution_count": null,
   "id": "2880807b",
   "metadata": {},
   "outputs": [],
   "source": [
    "shoulder = [landmarks[mp_pose.PoseLandmark.LEFT_SHOULDER.value].x,landmarks[mp_pose.PoseLandmark.LEFT_SHOULDER.value].y]\n",
    "elbow = [landmarks[mp_pose.PoseLandmark.LEFT_ELBOW.value].x,landmarks[mp_pose.PoseLandmark.LEFT_ELBOW.value].y]\n",
    "wrist = [landmarks[mp_pose.PoseLandmark.LEFT_WRIST.value].x,landmarks[mp_pose.PoseLandmark.LEFT_WRIST.value].y]"
   ]
  },
  {
   "cell_type": "code",
   "execution_count": null,
   "id": "221aeaaa",
   "metadata": {},
   "outputs": [],
   "source": [
    "shoulder, elbow, wrist"
   ]
  },
  {
   "cell_type": "code",
   "execution_count": null,
   "id": "701d9833",
   "metadata": {},
   "outputs": [],
   "source": [
    "calculate_angle(shoulder, elbow, wrist)"
   ]
  },
  {
   "cell_type": "markdown",
   "id": "d1194f56",
   "metadata": {},
   "source": [
    "# Angle with 3D"
   ]
  },
  {
   "cell_type": "code",
   "execution_count": null,
   "id": "2d61df9c",
   "metadata": {},
   "outputs": [],
   "source": [
    "a = np.array([0, 0, 1])\n",
    "b = np.array([0, 0, 2])\n",
    "c = np.array([0, 0,3])\n",
    "\n",
    "ba = a - b\n",
    "bc = c - b\n",
    "\n",
    "cosine_angle = np.dot(ba, bc) / (np.linalg.norm(ba) * np.linalg.norm(bc))\n",
    "angle = np.arccos(cosine_angle)\n",
    "\n",
    "print(np.degrees(angle))"
   ]
  },
  {
   "cell_type": "code",
   "execution_count": null,
   "id": "9fafe8f9",
   "metadata": {},
   "outputs": [],
   "source": [
    "tuple(np.multiply(elbow, [640, 480]).astype(int))"
   ]
  },
  {
   "cell_type": "code",
   "execution_count": null,
   "id": "86413566",
   "metadata": {},
   "outputs": [],
   "source": [
    "def angle_2d(results):\n",
    "    \"\"\"\n",
    "    Function to extract 2d angle of Pipeline landmarks\n",
    "    \"\"\"\n",
    "    landmarks = results.pose_landmarks.landmark\n",
    "            \n",
    "    # Get coordinates\n",
    "    shoulder = [landmarks[mp_pose.PoseLandmark.LEFT_SHOULDER.value].x,landmarks[mp_pose.PoseLandmark.LEFT_SHOULDER.value].y]\n",
    "    elbow = [landmarks[mp_pose.PoseLandmark.LEFT_ELBOW.value].x,landmarks[mp_pose.PoseLandmark.LEFT_ELBOW.value].y]\n",
    "    wrist = [landmarks[mp_pose.PoseLandmark.LEFT_WRIST.value].x,landmarks[mp_pose.PoseLandmark.LEFT_WRIST.value].y]\n",
    "\n",
    "    # Calculate angle\n",
    "    angle = calculate_angle(shoulder, elbow, wrist)\n",
    "    return angle"
   ]
  },
  {
   "cell_type": "code",
   "execution_count": null,
   "id": "129eed97",
   "metadata": {},
   "outputs": [],
   "source": [
    "def calc_angle_3d(a, b, c):\n",
    "    \"\"\"\n",
    "    Function to extract 2d angle of Pipeline landmarks\n",
    "    \"\"\"\n",
    "\n",
    "    # Calculate angle\n",
    "    a = np.array(a)\n",
    "    b = np.array(b)\n",
    "    c = np.array(c)\n",
    "\n",
    "    ba = a - b\n",
    "    bc = c - b\n",
    "\n",
    "    cosine_angle = np.dot(ba, bc) / (np.linalg.norm(ba) * np.linalg.norm(bc))\n",
    "    angle = np.arccos(cosine_angle)\n",
    "    \n",
    "    degree = np.degrees(np.arccos(cosine_angle))\n",
    "    \n",
    "    a = ba\n",
    "    b = bc\n",
    "    a_mag = np.linalg.norm(a)\n",
    "    b_mag = np.linalg.norm(b)\n",
    "\n",
    "    theta = np.dot(a,b)/(a_mag * b_mag)\n",
    "    return degree\n",
    "    return theta, angle, cosine_angle"
   ]
  },
  {
   "cell_type": "code",
   "execution_count": null,
   "id": "95fa32f6",
   "metadata": {},
   "outputs": [],
   "source": []
  },
  {
   "cell_type": "code",
   "execution_count": null,
   "id": "22326c0d",
   "metadata": {},
   "outputs": [],
   "source": [
    "np.degrees(np.arccos(0))"
   ]
  },
  {
   "cell_type": "code",
   "execution_count": null,
   "id": "d2ac5f29",
   "metadata": {},
   "outputs": [],
   "source": [
    "np.arccos(0)"
   ]
  },
  {
   "cell_type": "code",
   "execution_count": null,
   "id": "cd709ed5",
   "metadata": {},
   "outputs": [],
   "source": [
    "calc_angle_3d(\n",
    "    [0, 1, 0],\n",
    "    [0, 0, 0],\n",
    "    [1, 0, 0])"
   ]
  },
  {
   "cell_type": "code",
   "execution_count": null,
   "id": "cd627dc6",
   "metadata": {},
   "outputs": [],
   "source": [
    "landmarks = results.pose_landmarks.landmark\n",
    "            \n",
    "# Get coordinates\n",
    "shoulder_3d = [\n",
    "    landmarks[mp_pose.PoseLandmark.LEFT_SHOULDER.value].x,\n",
    "    landmarks[mp_pose.PoseLandmark.LEFT_SHOULDER.value].y,\n",
    "    landmarks[mp_pose.PoseLandmark.LEFT_SHOULDER.value].z\n",
    "]\n",
    "elbow_3d = [\n",
    "    landmarks[mp_pose.PoseLandmark.LEFT_ELBOW.value].x,\n",
    "    landmarks[mp_pose.PoseLandmark.LEFT_ELBOW.value].y,\n",
    "    landmarks[mp_pose.PoseLandmark.LEFT_ELBOW.value].z\n",
    "]\n",
    "wrist_3d = [\n",
    "    landmarks[mp_pose.PoseLandmark.LEFT_WRIST.value].x,\n",
    "    landmarks[mp_pose.PoseLandmark.LEFT_WRIST.value].y,\n",
    "    landmarks[mp_pose.PoseLandmark.LEFT_WRIST.value].z\n",
    "]"
   ]
  },
  {
   "cell_type": "code",
   "execution_count": null,
   "id": "5f3a49a9",
   "metadata": {},
   "outputs": [],
   "source": [
    "calc_angle_3d(results)"
   ]
  },
  {
   "cell_type": "code",
   "execution_count": null,
   "id": "7701f651",
   "metadata": {},
   "outputs": [],
   "source": [
    "np.multiply(elbow, [640, 480]).astype(int) + 20\n"
   ]
  },
  {
   "cell_type": "code",
   "execution_count": null,
   "id": "cf9beacb",
   "metadata": {},
   "outputs": [],
   "source": [
    "angle = calculate_angle(shoulder, elbow, wrist)"
   ]
  },
  {
   "cell_type": "code",
   "execution_count": null,
   "id": "c93d0d17",
   "metadata": {},
   "outputs": [],
   "source": [
    "angle"
   ]
  },
  {
   "cell_type": "code",
   "execution_count": null,
   "id": "b8a1228d",
   "metadata": {},
   "outputs": [],
   "source": [
    "results\n"
   ]
  },
  {
   "cell_type": "code",
   "execution_count": null,
   "id": "deb44b39",
   "metadata": {},
   "outputs": [],
   "source": [
    "angle_3d = calc_angle_3d(results)\n",
    "angle_3d"
   ]
  },
  {
   "cell_type": "code",
   "execution_count": null,
   "id": "e702bc60",
   "metadata": {},
   "outputs": [],
   "source": [
    "cap = cv2.VideoCapture(0)\n",
    "## Setup mediapipe instance\n",
    "with mp_pose.Pose(min_detection_confidence=0.5, min_tracking_confidence=0.5) as pose:\n",
    "    while cap.isOpened():\n",
    "        ret, frame = cap.read()\n",
    "        \n",
    "        # Recolor image to RGB\n",
    "        image = cv2.cvtColor(frame, cv2.COLOR_BGR2RGB)\n",
    "        image.flags.writeable = False\n",
    "      \n",
    "        # Make detection\n",
    "        results = pose.process(image)\n",
    "    \n",
    "        # Recolor back to BGR\n",
    "        image.flags.writeable = True\n",
    "        image = cv2.cvtColor(image, cv2.COLOR_RGB2BGR)\n",
    "        \n",
    "        # Extract landmarks\n",
    "        try:\n",
    "            landmarks = results.pose_landmarks.landmark\n",
    "            \n",
    "            # Get coordinates\n",
    "            shoulder = [landmarks[mp_pose.PoseLandmark.LEFT_SHOULDER.value].x,landmarks[mp_pose.PoseLandmark.LEFT_SHOULDER.value].y]\n",
    "            elbow = [landmarks[mp_pose.PoseLandmark.LEFT_ELBOW.value].x,landmarks[mp_pose.PoseLandmark.LEFT_ELBOW.value].y]\n",
    "            wrist = [landmarks[mp_pose.PoseLandmark.LEFT_WRIST.value].x,landmarks[mp_pose.PoseLandmark.LEFT_WRIST.value].y]\n",
    "            \n",
    "            # Calculate angle\n",
    "            angle = calculate_angle(shoulder, elbow, wrist)\n",
    "            \n",
    "            # Visualize angle\n",
    "            cv2.putText(image, str(angle), \n",
    "                           tuple(np.multiply(elbow, [640, 480]).astype(int)), \n",
    "                           cv2.FONT_HERSHEY_SIMPLEX, 0.5, (255, 255, 255), 2, cv2.LINE_AA\n",
    "                                )\n",
    "                       \n",
    "        except:\n",
    "            pass\n",
    "        \n",
    "        \n",
    "        # Render detections\n",
    "        mp_drawing.draw_landmarks(image, results.pose_landmarks, mp_pose.POSE_CONNECTIONS,\n",
    "                                mp_drawing.DrawingSpec(color=(245,117,66), thickness=2, circle_radius=2), \n",
    "                                mp_drawing.DrawingSpec(color=(245,66,230), thickness=2, circle_radius=2) \n",
    "                                 )               \n",
    "        \n",
    "        cv2.imshow('Mediapipe Feed', image)\n",
    "\n",
    "        if cv2.waitKey(10) & 0xFF == ord('q'):\n",
    "            break\n",
    "\n",
    "    cap.release()\n",
    "    cv2.destroyAllWindows()"
   ]
  },
  {
   "cell_type": "code",
   "execution_count": null,
   "id": "8509b9cd",
   "metadata": {},
   "outputs": [],
   "source": [
    "landmarks[mp_pose.PoseLandmark.LEFT_SHOULDER.value].visibility"
   ]
  },
  {
   "cell_type": "code",
   "execution_count": null,
   "id": "7b3fa29d",
   "metadata": {},
   "outputs": [],
   "source": [
    "tuple(np.multiply(elbow[:2], [640, 480]).astype(int))"
   ]
  },
  {
   "cell_type": "markdown",
   "id": "83e66721",
   "metadata": {},
   "source": [
    "# 3D"
   ]
  },
  {
   "cell_type": "code",
   "execution_count": null,
   "id": "45bde01e",
   "metadata": {},
   "outputs": [],
   "source": [
    "cap = cv2.VideoCapture(0)\n",
    "## Setup mediapipe instance\n",
    "with mp_pose.Pose(min_detection_confidence=0.5, min_tracking_confidence=0.5) as pose:\n",
    "    while cap.isOpened():\n",
    "        ret, frame = cap.read()\n",
    "        \n",
    "        # Recolor image to RGB\n",
    "        image = cv2.cvtColor(frame, cv2.COLOR_BGR2RGB)\n",
    "        image.flags.writeable = False\n",
    "      \n",
    "        # Make detection\n",
    "        results = pose.process(image)\n",
    "    \n",
    "        # Recolor back to BGR\n",
    "        image.flags.writeable = True\n",
    "        image = cv2.cvtColor(image, cv2.COLOR_RGB2BGR)\n",
    "        \n",
    "        # Extract landmarks\n",
    "        try:\n",
    "            print('\\n')\n",
    "            sleep(0.2)\n",
    "            landmarks = results.pose_landmarks.landmark\n",
    "            \n",
    "            # Get coordinates\n",
    "            shoulder = [\n",
    "                landmarks[mp_pose.PoseLandmark.LEFT_SHOULDER.value].x,\n",
    "                landmarks[mp_pose.PoseLandmark.LEFT_SHOULDER.value].y,\n",
    "                landmarks[mp_pose.PoseLandmark.LEFT_SHOULDER.value].z\n",
    "            ]\n",
    "            elbow = [\n",
    "                landmarks[mp_pose.PoseLandmark.LEFT_ELBOW.value].x,\n",
    "                landmarks[mp_pose.PoseLandmark.LEFT_ELBOW.value].y,\n",
    "                landmarks[mp_pose.PoseLandmark.LEFT_ELBOW.value].z\n",
    "            ]\n",
    "            wrist = [\n",
    "                landmarks[mp_pose.PoseLandmark.LEFT_WRIST.value].x,\n",
    "                landmarks[mp_pose.PoseLandmark.LEFT_WRIST.value].y,\n",
    "                landmarks[mp_pose.PoseLandmark.LEFT_WRIST.value].z\n",
    "            ]\n",
    "            # Calculate angle\n",
    "            #angle = calculate_angle(shoulder, elbow, wrist)\n",
    "            angle = calc_angle_3d(\n",
    "                shoulder,\n",
    "                elbow,\n",
    "                wrist\n",
    "            )\n",
    "            '''print(shoulder)\n",
    "            print(elbow)\n",
    "            print(wrist)'''\n",
    "            print(angle)\n",
    "            # Visualize angle\n",
    "            print('test1')\n",
    "            print(tuple(np.multiply(elbow[:2], [640, 480]).astype(int)))\n",
    "            print('test2')\n",
    "            cv2.putText(image, str(angle), \n",
    "                           tuple(np.multiply(elbow[:2], [640, 480]).astype(int)), \n",
    "                           cv2.FONT_HERSHEY_SIMPLEX, 0.5, (255, 255, 255), 2, cv2.LINE_AA\n",
    "                                )\n",
    "            print('test3')\n",
    "        except:\n",
    "            pass\n",
    "        \n",
    "        \n",
    "        # Render detections\n",
    "        mp_drawing.draw_landmarks(image, results.pose_landmarks, mp_pose.POSE_CONNECTIONS,\n",
    "                                mp_drawing.DrawingSpec(color=(245,117,66), thickness=2, circle_radius=2), \n",
    "                                mp_drawing.DrawingSpec(color=(245,66,230), thickness=2, circle_radius=2) \n",
    "                                 )               \n",
    "        \n",
    "        cv2.imshow('Mediapipe Feed', image)\n",
    "\n",
    "        if cv2.waitKey(10) & 0xFF == ord('q'):\n",
    "            break\n",
    "\n",
    "    cap.release()\n",
    "    cv2.destroyAllWindows()"
   ]
  },
  {
   "cell_type": "code",
   "execution_count": null,
   "id": "3d07545f",
   "metadata": {},
   "outputs": [],
   "source": [
    "angle"
   ]
  },
  {
   "cell_type": "code",
   "execution_count": null,
   "id": "fbc94b7d",
   "metadata": {},
   "outputs": [],
   "source": [
    "print('dsf')\n",
    "sleep(2)\n",
    "print('lj')"
   ]
  },
  {
   "cell_type": "code",
   "execution_count": null,
   "id": "97802e16",
   "metadata": {},
   "outputs": [],
   "source": [
    "LEFT_SHOULDER"
   ]
  },
  {
   "cell_type": "code",
   "execution_count": null,
   "id": "017241ba",
   "metadata": {},
   "outputs": [],
   "source": [
    "lm_11 = [landmarks[mp_pose.PoseLandmark.LEFT_SHOULDER.value].x,\n",
    "        landmarks[mp_pose.PoseLandmark.LEFT_SHOULDER.value].y]"
   ]
  },
  {
   "cell_type": "code",
   "execution_count": null,
   "id": "f5d0f721",
   "metadata": {},
   "outputs": [],
   "source": [
    "landmark_dict = {}"
   ]
  },
  {
   "cell_type": "code",
   "execution_count": null,
   "id": "954fc8f4",
   "metadata": {},
   "outputs": [],
   "source": [
    "# Shoulders\n",
    "(np.array(landmark_dict['11']) + np.array(landmark_dict['11']))/2"
   ]
  },
  {
   "cell_type": "code",
   "execution_count": null,
   "id": "d0cdb608",
   "metadata": {},
   "outputs": [],
   "source": [
    "# Nose\n",
    "landmark_dict['0'] = [landmarks[mp_pose.PoseLandmark.NOSE.value].x,\n",
    "        landmarks[mp_pose.PoseLandmark.NOSE.value].y]\n",
    "# Shoulders\n",
    "landmark_dict['11'] = [landmarks[mp_pose.PoseLandmark.LEFT_SHOULDER.value].x,\n",
    "        landmarks[mp_pose.PoseLandmark.LEFT_SHOULDER.value].y]\n",
    "landmark_dict['12'] = [landmarks[mp_pose.PoseLandmark.RIGHT_SHOULDER.value].x,\n",
    "        landmarks[mp_pose.PoseLandmark.RIGHT_SHOULDER.value].y]\n",
    "# Sternum\n",
    "landmark_dict['11-12'] = (np.array(landmark_dict['11']) + np.array(landmark_dict['12']))/2\n",
    "# Elbows\n",
    "landmark_dict['13'] = [landmarks[mp_pose.PoseLandmark.LEFT_ELBOW.value].x,\n",
    "        landmarks[mp_pose.PoseLandmark.LEFT_ELBOW.value].y]\n",
    "landmark_dict['14'] = [landmarks[mp_pose.PoseLandmark.RIGHT_ELBOW.value].x,\n",
    "        landmarks[mp_pose.PoseLandmark.RIGHT_ELBOW.value].y]\n",
    "# Wrists\n",
    "landmark_dict['15'] = [landmarks[mp_pose.PoseLandmark.LEFT_WRIST.value].x,\n",
    "        landmarks[mp_pose.PoseLandmark.LEFT_WRIST.value].y]\n",
    "landmark_dict['16'] = [landmarks[mp_pose.PoseLandmark.RIGHT_WRIST.value].x,\n",
    "        landmarks[mp_pose.PoseLandmark.RIGHT_WRIST.value].y]\n",
    "# Hips\n",
    "landmark_dict['23'] = [landmarks[mp_pose.PoseLandmark.LEFT_HIP.value].x,\n",
    "        landmarks[mp_pose.PoseLandmark.LEFT_HIP.value].y]\n",
    "landmark_dict['24'] = [landmarks[mp_pose.PoseLandmark.RIGHT_HIP.value].x,\n",
    "        landmarks[mp_pose.PoseLandmark.RIGHT_HIP.value].y]\n",
    "# Pubic Bone\n",
    "landmark_dict['23-24'] = (np.array(landmark_dict['23']) + np.array(landmark_dict['24']))/2\n",
    "\n",
    "# Knees\n",
    "landmark_dict['25'] = [landmarks[mp_pose.PoseLandmark.LEFT_KNEE.value].x,\n",
    "        landmarks[mp_pose.PoseLandmark.LEFT_KNEE.value].y]\n",
    "landmark_dict['26'] = [landmarks[mp_pose.PoseLandmark.RIGHT_KNEE.value].x,\n",
    "        landmarks[mp_pose.PoseLandmark.RIGHT_KNEE.value].y]\n",
    "# Ankles\n",
    "landmark_dict['27'] = [landmarks[mp_pose.PoseLandmark.LEFT_ANKLE.value].x,\n",
    "        landmarks[mp_pose.PoseLandmark.LEFT_ANKLE.value].y]\n",
    "landmark_dict['28'] = [landmarks[mp_pose.PoseLandmark.RIGHT_ANKLE.value].x,\n",
    "        landmarks[mp_pose.PoseLandmark.RIGHT_ANKLE.value].y]"
   ]
  },
  {
   "cell_type": "code",
   "execution_count": null,
   "id": "1cc2ffef",
   "metadata": {},
   "outputs": [],
   "source": [
    "angles = {}"
   ]
  },
  {
   "cell_type": "code",
   "execution_count": null,
   "id": "65d2de40",
   "metadata": {},
   "outputs": [],
   "source": [
    "angles = {}\n",
    "angle_keys = [\n",
    "    '0.11-12.23-24', # Nose to torso\n",
    "    '12.11.13', '23.11.13', '23.11.12', # Left shoulder ()\n",
    "    '11.12.14', '24.12.14', '24.12.11', # right shoulder # left elbow\n",
    "    '11.13.15', '12.14.16', # both elbows\n",
    "    '11.23.25', '11.23.24', '25.23.24', # left hip\n",
    "    '12.24.26', '12.24.23', '26.24.23', # right hip\n",
    "    '23.25.27', '24.26.28', #both knees\n",
    "    '28.24.16', '27.23.15', # wrist-hip-ankle\n",
    "] \n",
    "for key in angle_keys:\n",
    "    a, b, c = [landmark_dict[number] for number in key.split('.')]\n",
    "    angles[key] = calculate_angle(a, b, c)"
   ]
  },
  {
   "cell_type": "code",
   "execution_count": null,
   "id": "1ba1472d",
   "metadata": {},
   "outputs": [],
   "source": [
    "for key in angle_keys:\n",
    "    a, b, c = [landmark_dict[number] for number in key.split('.')]\n",
    "    angles[key] = calculate_angle(a, b, c)"
   ]
  },
  {
   "cell_type": "code",
   "execution_count": null,
   "id": "3fdd6b92",
   "metadata": {},
   "outputs": [],
   "source": [
    "angles"
   ]
  },
  {
   "cell_type": "markdown",
   "id": "f8762e8c",
   "metadata": {},
   "source": [
    "# Shoulders\n",
    "lm_11 = [landmarks[mp_pose.PoseLandmark.LEFT_SHOULDER.value].x,\n",
    "        landmarks[mp_pose.PoseLandmark.LEFT_SHOULDER.value].y]\n",
    "lm_12 = [landmarks[mp_pose.PoseLandmark.RIGHT_SHOULDER.value].x,\n",
    "        landmarks[mp_pose.PoseLandmark.RIGHT_SHOULDER.value].y]\n",
    "# Elbows\n",
    "lm_13 = [landmarks[mp_pose.PoseLandmark.LEFT_ELBOW.value].x,\n",
    "        landmarks[mp_pose.PoseLandmark.LEFT_ELBOW.value].y]\n",
    "lm_14 = [landmarks[mp_pose.PoseLandmark.RIGHT_ELBOW.value].x,\n",
    "        landmarks[mp_pose.PoseLandmark.RIGHT_ELBOW.value].y]\n",
    "# Wrists\n",
    "lm_15 = [landmarks[mp_pose.PoseLandmark.LEFT_WRIST.value].x,\n",
    "        landmarks[mp_pose.PoseLandmark.LEFT_WRIST.value].y]\n",
    "lm_16 = [landmarks[mp_pose.PoseLandmark.RIGHT_WRIST.value].x,\n",
    "        landmarks[mp_pose.PoseLandmark.RIGHT_WRIST.value].y]\n",
    "# Hips\n",
    "lm_23 = [landmarks[mp_pose.PoseLandmark.LEFT_HIP.value].x,\n",
    "        landmarks[mp_pose.PoseLandmark.LEFT_HIP.value].y]\n",
    "lm_24 = [landmarks[mp_pose.PoseLandmark.RIGHT_HIP.value].x,\n",
    "        landmarks[mp_pose.PoseLandmark.RIGHT_HIP.value].y]\n",
    "# Knees\n",
    "lm_25 = [landmarks[mp_pose.PoseLandmark.LEFT_KNEE.value].x,\n",
    "        landmarks[mp_pose.PoseLandmark.LEFT_KNEE.value].y]\n",
    "lm_26 = [landmarks[mp_pose.PoseLandmark.RIGHT_KNEE.value].x,\n",
    "        landmarks[mp_pose.PoseLandmark.RIGHT_KNEE.value].y]\n",
    "# Ankles\n",
    "lm_27 = [landmarks[mp_pose.PoseLandmark.LEFT_ANKLE.value].x,\n",
    "        landmarks[mp_pose.PoseLandmark.LEFT_ANKLE.value].y]\n",
    "lm_28 = [landmarks[mp_pose.PoseLandmark.RIGHT_ANKLE.value].x,\n",
    "        landmarks[mp_pose.PoseLandmark.RIGHT_ANKLE.value].y]"
   ]
  },
  {
   "cell_type": "code",
   "execution_count": null,
   "id": "cd0ca3e1",
   "metadata": {},
   "outputs": [],
   "source": [
    "# Angles\n",
    "Angles = []\n",
    "# 11 - 12, 13, 23\\\n",
    "\n",
    "# "
   ]
  },
  {
   "cell_type": "code",
   "execution_count": null,
   "id": "9cd75d99",
   "metadata": {},
   "outputs": [],
   "source": [
    "landmarks_list = [lm_11, lm_12, \n",
    "                  lm_13, lm_14, \n",
    "                  lm_15, lm_16, \n",
    "                  lm_23, lm_24, \n",
    "                  lm_25, lm_26, \n",
    "                  lm_27, lm_28]"
   ]
  },
  {
   "cell_type": "code",
   "execution_count": null,
   "id": "1bf0f7ac",
   "metadata": {},
   "outputs": [],
   "source": [
    "landmarks_"
   ]
  },
  {
   "cell_type": "code",
   "execution_count": null,
   "id": "ca8d23b3",
   "metadata": {},
   "outputs": [],
   "source": [
    "lm_11"
   ]
  },
  {
   "cell_type": "markdown",
   "id": "bdea1fed",
   "metadata": {},
   "source": [
    "# Machine Learning"
   ]
  },
  {
   "cell_type": "code",
   "execution_count": 4,
   "id": "84622e4a",
   "metadata": {},
   "outputs": [],
   "source": [
    "import os"
   ]
  },
  {
   "cell_type": "code",
   "execution_count": 5,
   "id": "e0d6d74d",
   "metadata": {},
   "outputs": [
    {
     "data": {
      "text/plain": [
       "'C:\\\\Users\\\\simon\\\\PycharmProjects\\\\yoga_gesture_detection'"
      ]
     },
     "execution_count": 5,
     "metadata": {},
     "output_type": "execute_result"
    }
   ],
   "source": [
    "os.getcwd()"
   ]
  },
  {
   "cell_type": "code",
   "execution_count": 6,
   "id": "35b6dd0b",
   "metadata": {},
   "outputs": [],
   "source": [
    "def fast_scandir(dirname):\n",
    "    subfolders= [f.path for f in os.scandir(dirname) if f.is_dir()]\n",
    "    for dirname in list(subfolders):\n",
    "        subfolders.extend(fast_scandir(dirname))\n",
    "    return subfolders"
   ]
  },
  {
   "cell_type": "code",
   "execution_count": 7,
   "id": "a61f8963",
   "metadata": {},
   "outputs": [],
   "source": [
    "directory = 'C:\\\\Users\\\\simon\\\\PycharmProjects\\\\yoga_gesture_detection\\\\pose_recognition_data\\\\training data\\\\training frames'"
   ]
  },
  {
   "cell_type": "code",
   "execution_count": 8,
   "id": "9f36b997",
   "metadata": {},
   "outputs": [],
   "source": [
    "folders = fast_scandir(directory)[:2] + fast_scandir(directory)[4:]"
   ]
  },
  {
   "cell_type": "code",
   "execution_count": 9,
   "id": "c97f8085",
   "metadata": {},
   "outputs": [],
   "source": [
    "poses = [pose.split('- ')[1] for pose in folders]"
   ]
  },
  {
   "cell_type": "code",
   "execution_count": 15,
   "id": "b6663e38",
   "metadata": {},
   "outputs": [],
   "source": [
    "data = {}\n",
    "for pose in poses:\n",
    "    data[pose] = []"
   ]
  },
  {
   "cell_type": "code",
   "execution_count": 10,
   "id": "b3446aad",
   "metadata": {},
   "outputs": [
    {
     "data": {
      "text/plain": [
       "[]"
      ]
     },
     "execution_count": 10,
     "metadata": {},
     "output_type": "execute_result"
    }
   ],
   "source": [
    "from glob import glob\n",
    "glob(\"/yoga_gesture_detection/*/\")"
   ]
  },
  {
   "cell_type": "code",
   "execution_count": 11,
   "id": "8c2bda8a",
   "metadata": {},
   "outputs": [
    {
     "data": {
      "text/plain": [
       "[]"
      ]
     },
     "execution_count": 11,
     "metadata": {},
     "output_type": "execute_result"
    }
   ],
   "source": [
    "fast_scandir(folders[0])"
   ]
  },
  {
   "cell_type": "code",
   "execution_count": 24,
   "id": "5221705e",
   "metadata": {},
   "outputs": [],
   "source": [
    "data = []"
   ]
  },
  {
   "cell_type": "code",
   "execution_count": 27,
   "id": "7890bc27",
   "metadata": {},
   "outputs": [
    {
     "ename": "AttributeError",
     "evalue": "'str' object has no attribute 'training'",
     "output_type": "error",
     "traceback": [
      "\u001b[1;31m---------------------------------------------------------------------------\u001b[0m",
      "\u001b[1;31mAttributeError\u001b[0m                            Traceback (most recent call last)",
      "\u001b[1;32m<ipython-input-27-94d62c26fa4a>\u001b[0m in \u001b[0;36m<module>\u001b[1;34m\u001b[0m\n\u001b[0;32m     14\u001b[0m     \u001b[0mpaths\u001b[0m \u001b[1;33m=\u001b[0m \u001b[0mglob\u001b[0m\u001b[1;33m(\u001b[0m\u001b[0mfolders\u001b[0m\u001b[1;33m[\u001b[0m\u001b[1;36m0\u001b[0m\u001b[1;33m]\u001b[0m\u001b[1;33m+\u001b[0m\u001b[1;34m'/*'\u001b[0m\u001b[1;33m)\u001b[0m\u001b[1;33m\u001b[0m\u001b[1;33m\u001b[0m\u001b[0m\n\u001b[0;32m     15\u001b[0m     \u001b[1;32mfor\u001b[0m \u001b[0mpath\u001b[0m \u001b[1;32min\u001b[0m \u001b[0mpaths\u001b[0m\u001b[1;33m:\u001b[0m\u001b[1;33m\u001b[0m\u001b[1;33m\u001b[0m\u001b[0m\n\u001b[1;32m---> 16\u001b[1;33m         \u001b[0mprint\u001b[0m\u001b[1;33m(\u001b[0m\u001b[0mpath\u001b[0m\u001b[1;33m.\u001b[0m\u001b[0mtraining\u001b[0m\u001b[1;33m)\u001b[0m\u001b[1;33m\u001b[0m\u001b[1;33m\u001b[0m\u001b[0m\n\u001b[0m\u001b[0;32m     17\u001b[0m         \u001b[0mimaage\u001b[0m \u001b[1;33m=\u001b[0m \u001b[0mcv2\u001b[0m\u001b[1;33m.\u001b[0m\u001b[0mimread\u001b[0m\u001b[1;33m(\u001b[0m\u001b[0mpath\u001b[0m\u001b[1;33m)\u001b[0m\u001b[1;33m\u001b[0m\u001b[1;33m\u001b[0m\u001b[0m\n\u001b[0;32m     18\u001b[0m         \u001b[1;31m# Recolor image to RGB\u001b[0m\u001b[1;33m\u001b[0m\u001b[1;33m\u001b[0m\u001b[1;33m\u001b[0m\u001b[0m\n",
      "\u001b[1;31mAttributeError\u001b[0m: 'str' object has no attribute 'training'"
     ]
    }
   ],
   "source": [
    "angle_keys = [\n",
    "        '0.11-12.23-24', # Nose to torso\n",
    "        '12.11.13', '23.11.13', '23.11.12', # Left shoulder ()\n",
    "        '11.12.14', '24.12.14', '24.12.11', # right shoulder # left elbow\n",
    "        '11.13.15', '12.14.16', # both elbows\n",
    "        '11.23.25', '11.23.24', '25.23.24', # left hip\n",
    "        '12.24.26', '12.24.23', '26.24.23', # right hip\n",
    "        '23.25.27', '24.26.28', #both knees\n",
    "        '28.24.16', '27.23.15', # wrist-hip-ankle\n",
    "    ] \n",
    "\n",
    "for folder in folders:\n",
    "    pose = folder.split('- ')[1]\n",
    "    paths = glob(folders[0]+'/*')\n",
    "    for path in paths:\n",
    "        print(path.split('training frames'))\n",
    "        imaage = cv2.imread(path)\n",
    "        # Recolor image to RGB\n",
    "        image = cv2.cvtColor(imaage, cv2.COLOR_BGR2RGB)\n",
    "        image.flags.writeable = False\n",
    "\n",
    "        # Make detection\n",
    "        results = mp_pose.Pose(min_detection_confidence=0.5, min_tracking_confidence=0.5).process(image)\n",
    "        landmarks = results.pose_landmarks.landmark\n",
    "        landmark_dict = {}\n",
    "\n",
    "        # Nose\n",
    "        landmark_dict['0'] = [landmarks[mp_pose.PoseLandmark.NOSE.value].x,\n",
    "                landmarks[mp_pose.PoseLandmark.NOSE.value].y]\n",
    "        # Shoulders\n",
    "        landmark_dict['11'] = [landmarks[mp_pose.PoseLandmark.LEFT_SHOULDER.value].x,\n",
    "                landmarks[mp_pose.PoseLandmark.LEFT_SHOULDER.value].y]\n",
    "        landmark_dict['12'] = [landmarks[mp_pose.PoseLandmark.RIGHT_SHOULDER.value].x,\n",
    "                landmarks[mp_pose.PoseLandmark.RIGHT_SHOULDER.value].y]\n",
    "        # Sternum\n",
    "        landmark_dict['11-12'] = (np.array(landmark_dict['11']) + np.array(landmark_dict['12']))/2\n",
    "        # Elbows\n",
    "        landmark_dict['13'] = [landmarks[mp_pose.PoseLandmark.LEFT_ELBOW.value].x,\n",
    "                landmarks[mp_pose.PoseLandmark.LEFT_ELBOW.value].y]\n",
    "        landmark_dict['14'] = [landmarks[mp_pose.PoseLandmark.RIGHT_ELBOW.value].x,\n",
    "                landmarks[mp_pose.PoseLandmark.RIGHT_ELBOW.value].y]\n",
    "        # Wrists\n",
    "        landmark_dict['15'] = [landmarks[mp_pose.PoseLandmark.LEFT_WRIST.value].x,\n",
    "                landmarks[mp_pose.PoseLandmark.LEFT_WRIST.value].y]\n",
    "        landmark_dict['16'] = [landmarks[mp_pose.PoseLandmark.RIGHT_WRIST.value].x,\n",
    "                landmarks[mp_pose.PoseLandmark.RIGHT_WRIST.value].y]\n",
    "        # Hips\n",
    "        landmark_dict['23'] = [landmarks[mp_pose.PoseLandmark.LEFT_HIP.value].x,\n",
    "                landmarks[mp_pose.PoseLandmark.LEFT_HIP.value].y]\n",
    "        landmark_dict['24'] = [landmarks[mp_pose.PoseLandmark.RIGHT_HIP.value].x,\n",
    "                landmarks[mp_pose.PoseLandmark.RIGHT_HIP.value].y]\n",
    "        # Pubic Bone\n",
    "        landmark_dict['23-24'] = (np.array(landmark_dict['23']) + np.array(landmark_dict['24']))/2\n",
    "\n",
    "        # Knees\n",
    "        landmark_dict['25'] = [landmarks[mp_pose.PoseLandmark.LEFT_KNEE.value].x,\n",
    "                landmarks[mp_pose.PoseLandmark.LEFT_KNEE.value].y]\n",
    "        landmark_dict['26'] = [landmarks[mp_pose.PoseLandmark.RIGHT_KNEE.value].x,\n",
    "                landmarks[mp_pose.PoseLandmark.RIGHT_KNEE.value].y]\n",
    "        # Ankles\n",
    "        landmark_dict['27'] = [landmarks[mp_pose.PoseLandmark.LEFT_ANKLE.value].x,\n",
    "                landmarks[mp_pose.PoseLandmark.LEFT_ANKLE.value].y]\n",
    "        landmark_dict['28'] = [landmarks[mp_pose.PoseLandmark.RIGHT_ANKLE.value].x,\n",
    "                landmarks[mp_pose.PoseLandmark.RIGHT_ANKLE.value].y]\n",
    "        angles = {}\n",
    "\n",
    "        for key in angle_keys:\n",
    "            a, b, c = [landmark_dict[number] for number in key.split('.')]\n",
    "            angles[key] = calculate_angle(a, b, c)\n",
    "        angles['pose'] = pose\n",
    "        data.append(angles)"
   ]
  },
  {
   "cell_type": "code",
   "execution_count": 26,
   "id": "20f737f1",
   "metadata": {},
   "outputs": [
    {
     "data": {
      "text/plain": [
       "[{'0.11-12.23-24': 156.2465631252828,\n",
       "  '12.11.13': 50.704336511228185,\n",
       "  '23.11.13': 165.80219190481495,\n",
       "  '23.11.12': 115.09785539358674,\n",
       "  '11.12.14': 133.4025154893754,\n",
       "  '24.12.14': 163.48492196280384,\n",
       "  '24.12.11': 63.11256254782076,\n",
       "  '11.13.15': 168.00013473177552,\n",
       "  '12.14.16': 163.69733996506818,\n",
       "  '11.23.25': 55.84886419708734,\n",
       "  '11.23.24': 83.53735468799813,\n",
       "  '25.23.24': 27.688490490910805,\n",
       "  '12.24.26': 51.845162683667,\n",
       "  '12.24.23': 98.25222737059434,\n",
       "  '26.24.23': 150.09739005426133,\n",
       "  '23.25.27': 171.6969774603876,\n",
       "  '24.26.28': 167.85181649820467,\n",
       "  '28.24.16': 53.25493986290729,\n",
       "  '27.23.15': 55.48340230392679,\n",
       "  'pose': 'Downward-facing Dog'}]"
      ]
     },
     "execution_count": 26,
     "metadata": {},
     "output_type": "execute_result"
    }
   ],
   "source": [
    "data"
   ]
  },
  {
   "cell_type": "code",
   "execution_count": 14,
   "id": "9cba27eb",
   "metadata": {},
   "outputs": [
    {
     "ename": "AttributeError",
     "evalue": "'numpy.ndarray' object has no attribute 'show'",
     "output_type": "error",
     "traceback": [
      "\u001b[1;31m---------------------------------------------------------------------------\u001b[0m",
      "\u001b[1;31mAttributeError\u001b[0m                            Traceback (most recent call last)",
      "\u001b[1;32m<ipython-input-14-d946298b95dd>\u001b[0m in \u001b[0;36m<module>\u001b[1;34m\u001b[0m\n\u001b[1;32m----> 1\u001b[1;33m \u001b[0mimage\u001b[0m\u001b[1;33m.\u001b[0m\u001b[0mshow\u001b[0m\u001b[1;33m(\u001b[0m\u001b[1;33m)\u001b[0m\u001b[1;33m\u001b[0m\u001b[1;33m\u001b[0m\u001b[0m\n\u001b[0m",
      "\u001b[1;31mAttributeError\u001b[0m: 'numpy.ndarray' object has no attribute 'show'"
     ]
    }
   ],
   "source": [
    "image."
   ]
  },
  {
   "cell_type": "code",
   "execution_count": null,
   "id": "003671b6",
   "metadata": {},
   "outputs": [],
   "source": [
    "\n",
    "# Recolor image to RGB\n",
    "image = cv2.cvtColor(imaage, cv2.COLOR_BGR2RGB)\n",
    "image.flags.writeable = False\n",
    "\n",
    "# Make detection\n",
    "results = mp_pose.Pose(min_detection_confidence=0.5, min_tracking_confidence=0.5).process(image)"
   ]
  },
  {
   "cell_type": "code",
   "execution_count": null,
   "id": "0deeb890",
   "metadata": {},
   "outputs": [],
   "source": [
    "landmarks = results.pose_landmarks.landmark"
   ]
  },
  {
   "cell_type": "code",
   "execution_count": null,
   "id": "bf6ec54c",
   "metadata": {},
   "outputs": [],
   "source": [
    "landmark_dict = {}\n",
    "\n",
    "# Nose\n",
    "landmark_dict['0'] = [landmarks[mp_pose.PoseLandmark.NOSE.value].x,\n",
    "        landmarks[mp_pose.PoseLandmark.NOSE.value].y]\n",
    "# Shoulders\n",
    "landmark_dict['11'] = [landmarks[mp_pose.PoseLandmark.LEFT_SHOULDER.value].x,\n",
    "        landmarks[mp_pose.PoseLandmark.LEFT_SHOULDER.value].y]\n",
    "landmark_dict['12'] = [landmarks[mp_pose.PoseLandmark.RIGHT_SHOULDER.value].x,\n",
    "        landmarks[mp_pose.PoseLandmark.RIGHT_SHOULDER.value].y]\n",
    "# Sternum\n",
    "landmark_dict['11-12'] = (np.array(landmark_dict['11']) + np.array(landmark_dict['12']))/2\n",
    "# Elbows\n",
    "landmark_dict['13'] = [landmarks[mp_pose.PoseLandmark.LEFT_ELBOW.value].x,\n",
    "        landmarks[mp_pose.PoseLandmark.LEFT_ELBOW.value].y]\n",
    "landmark_dict['14'] = [landmarks[mp_pose.PoseLandmark.RIGHT_ELBOW.value].x,\n",
    "        landmarks[mp_pose.PoseLandmark.RIGHT_ELBOW.value].y]\n",
    "# Wrists\n",
    "landmark_dict['15'] = [landmarks[mp_pose.PoseLandmark.LEFT_WRIST.value].x,\n",
    "        landmarks[mp_pose.PoseLandmark.LEFT_WRIST.value].y]\n",
    "landmark_dict['16'] = [landmarks[mp_pose.PoseLandmark.RIGHT_WRIST.value].x,\n",
    "        landmarks[mp_pose.PoseLandmark.RIGHT_WRIST.value].y]\n",
    "# Hips\n",
    "landmark_dict['23'] = [landmarks[mp_pose.PoseLandmark.LEFT_HIP.value].x,\n",
    "        landmarks[mp_pose.PoseLandmark.LEFT_HIP.value].y]\n",
    "landmark_dict['24'] = [landmarks[mp_pose.PoseLandmark.RIGHT_HIP.value].x,\n",
    "        landmarks[mp_pose.PoseLandmark.RIGHT_HIP.value].y]\n",
    "# Pubic Bone\n",
    "landmark_dict['23-24'] = (np.array(landmark_dict['23']) + np.array(landmark_dict['24']))/2\n",
    "\n",
    "# Knees\n",
    "landmark_dict['25'] = [landmarks[mp_pose.PoseLandmark.LEFT_KNEE.value].x,\n",
    "        landmarks[mp_pose.PoseLandmark.LEFT_KNEE.value].y]\n",
    "landmark_dict['26'] = [landmarks[mp_pose.PoseLandmark.RIGHT_KNEE.value].x,\n",
    "        landmarks[mp_pose.PoseLandmark.RIGHT_KNEE.value].y]\n",
    "# Ankles\n",
    "landmark_dict['27'] = [landmarks[mp_pose.PoseLandmark.LEFT_ANKLE.value].x,\n",
    "        landmarks[mp_pose.PoseLandmark.LEFT_ANKLE.value].y]\n",
    "landmark_dict['28'] = [landmarks[mp_pose.PoseLandmark.RIGHT_ANKLE.value].x,\n",
    "        landmarks[mp_pose.PoseLandmark.RIGHT_ANKLE.value].y]\n"
   ]
  },
  {
   "cell_type": "code",
   "execution_count": null,
   "id": "68c0955e",
   "metadata": {},
   "outputs": [],
   "source": [
    "angles = {}\n",
    "angle_keys = [\n",
    "    '0.11-12.23-24', # Nose to torso\n",
    "    '12.11.13', '23.11.13', '23.11.12', # Left shoulder ()\n",
    "    '11.12.14', '24.12.14', '24.12.11', # right shoulder # left elbow\n",
    "    '11.13.15', '12.14.16', # both elbows\n",
    "    '11.23.25', '11.23.24', '25.23.24', # left hip\n",
    "    '12.24.26', '12.24.23', '26.24.23', # right hip\n",
    "    '23.25.27', '24.26.28', #both knees\n",
    "    '28.24.16', '27.23.15', # wrist-hip-ankle\n",
    "] \n",
    "for key in angle_keys:\n",
    "    a, b, c = [landmark_dict[number] for number in key.split('.')]\n",
    "    angles[key] = calculate_angle(a, b, c)"
   ]
  }
 ],
 "metadata": {
  "kernelspec": {
   "display_name": "cv_yoga",
   "language": "python",
   "name": "cv_yoga"
  },
  "language_info": {
   "codemirror_mode": {
    "name": "ipython",
    "version": 3
   },
   "file_extension": ".py",
   "mimetype": "text/x-python",
   "name": "python",
   "nbconvert_exporter": "python",
   "pygments_lexer": "ipython3",
   "version": "3.9.4"
  }
 },
 "nbformat": 4,
 "nbformat_minor": 5
}
