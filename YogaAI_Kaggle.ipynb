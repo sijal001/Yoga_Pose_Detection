{
 "cells": [
  {
   "cell_type": "code",
   "execution_count": 1,
   "id": "19e4998d",
   "metadata": {},
   "outputs": [],
   "source": [
    "import numpy as np\n",
    "import pandas as pd\n",
    "import os\n",
    "import matplotlib.pyplot as plt\n",
    "import tensorflow as tf\n",
    "\n",
    "from tensorflow.keras.utils import to_categorical\n",
    "from tensorflow.keras.preprocessing.image import load_img, img_to_array\n",
    "from tensorflow.python.keras.preprocessing.image import ImageDataGenerator\n",
    "\n",
    "from sklearn.metrics import classification_report, log_loss, accuracy_score\n",
    "from sklearn.model_selection import train_test_split"
   ]
  },
  {
   "cell_type": "code",
   "execution_count": null,
   "id": "9a1f1480",
   "metadata": {},
   "outputs": [],
   "source": []
  },
  {
   "cell_type": "code",
   "execution_count": 2,
   "id": "b9a23467",
   "metadata": {},
   "outputs": [],
   "source": [
    "train_dir = 'pose_recognition_data/dataset'"
   ]
  },
  {
   "cell_type": "code",
   "execution_count": 3,
   "id": "3e9971b4",
   "metadata": {
    "scrolled": true
   },
   "outputs": [
    {
     "name": "stdout",
     "output_type": "stream",
     "text": [
      "['adho mukha svanasana', 'adho mukha vriksasana', 'agnistambhasana', 'ananda balasana', 'anantasana', 'anjaneyasana', 'ardha bhekasana', 'ardha chandrasana', 'ardha matsyendrasana', 'ardha pincha mayurasana', 'ardha uttanasana', 'ashtanga namaskara', 'astavakrasana', 'baddha konasana', 'bakasana', 'balasana', 'bhairavasana', 'bharadvajasana i', 'bhekasana', 'bhujangasana', 'bhujapidasana', 'bitilasana', 'camatkarasana', 'chakravakasana', 'chaturanga dandasana', 'dandasana', 'dhanurasana', 'durvasasana', 'dwi pada viparita dandasana', 'eka pada koundinyanasana i', 'eka pada koundinyanasana ii', 'eka pada rajakapotasana', 'eka pada rajakapotasana ii', 'ganda bherundasana', 'garbha pindasana', 'garudasana', 'gomukhasana', 'halasana', 'hanumanasana', 'janu sirsasana', 'kapotasana', 'krounchasana', 'kurmasana', 'lolasana', 'makara adho mukha svanasana', 'makarasana', 'malasana', 'marichyasana i', 'marichyasana iii', 'marjaryasana', 'matsyasana', 'mayurasana', 'natarajasana', 'padangusthasana', 'padmasana', 'parighasana', 'paripurna navasana', 'parivrtta janu sirsasana', 'parivrtta parsvakonasana', 'parivrtta trikonasana', 'parsva bakasana', 'parsvottanasana', 'pasasana', 'paschimottanasana', 'phalakasana', 'pincha mayurasana', 'prasarita padottanasana', 'purvottanasana', 'salabhasana', 'salamba bhujangasana', 'salamba sarvangasana', 'salamba sirsasana', 'savasana', 'setu bandha sarvangasana', 'simhasana', 'sukhasana', 'supta baddha konasana', 'supta matsyendrasana', 'supta padangusthasana', 'supta virasana', 'tadasana', 'tittibhasana', 'tolasana', 'tulasana', 'upavistha konasana', 'urdhva dhanurasana', 'urdhva hastasana', 'urdhva mukha svanasana', 'urdhva prasarita eka padasana', 'ustrasana', 'utkatasana', 'uttana shishosana', 'uttanasana', 'utthita ashwa sanchalanasana', 'utthita hasta padangustasana', 'utthita parsvakonasana', 'utthita trikonasana', 'vajrasana', 'vasisthasana', 'viparita karani', 'virabhadrasana i', 'virabhadrasana ii', 'virabhadrasana iii', 'virasana', 'vriksasana', 'vrischikasana', 'yoganidrasana']\n",
      "107\n"
     ]
    }
   ],
   "source": [
    "Name=[]\n",
    "for file in os.listdir(train_dir):\n",
    "    Name+=[file]\n",
    "print(Name)\n",
    "print(len(Name))"
   ]
  },
  {
   "cell_type": "code",
   "execution_count": 4,
   "id": "8cba21b7",
   "metadata": {},
   "outputs": [],
   "source": [
    "N=[]\n",
    "for i in range(len(Name)):\n",
    "    N+=[i]\n",
    "    \n",
    "normal_mapping=dict(zip(Name,N)) \n",
    "reverse_mapping=dict(zip(N,Name)) \n",
    "\n",
    "def mapper(value):\n",
    "    return reverse_mapping[value]"
   ]
  },
  {
   "cell_type": "code",
   "execution_count": 5,
   "id": "58f3bfaf",
   "metadata": {},
   "outputs": [
    {
     "name": "stderr",
     "output_type": "stream",
     "text": [
      "C:\\Users\\rolin\\anaconda3\\envs\\vision\\lib\\site-packages\\PIL\\Image.py:962: UserWarning: Palette images with Transparency expressed in bytes should be converted to RGBA images\n",
      "  warnings.warn(\n"
     ]
    }
   ],
   "source": [
    "dataset=[]\n",
    "testset=[]\n",
    "count=0\n",
    "for file in os.listdir(train_dir):\n",
    "    t=0\n",
    "    path=os.path.join(train_dir,file)\n",
    "    for im in os.listdir(path):\n",
    "        image=load_img(os.path.join(path,im), grayscale=False, color_mode='rgb', target_size=(40,40))\n",
    "        image=img_to_array(image)\n",
    "        image=image/255.0\n",
    "        if t<60:\n",
    "            dataset+=[[image,count]]\n",
    "        else:\n",
    "            testset+=[[image,count]]\n",
    "        t+=1\n",
    "    count=count+1"
   ]
  },
  {
   "cell_type": "code",
   "execution_count": 8,
   "id": "a7d47cf7",
   "metadata": {},
   "outputs": [],
   "source": [
    "data,labels0=zip(*dataset)\n",
    "test,testlabels0=zip(*testset)"
   ]
  },
  {
   "cell_type": "code",
   "execution_count": 9,
   "id": "42f1ee5b",
   "metadata": {},
   "outputs": [],
   "source": [
    "labels1=to_categorical(labels0)\n",
    "labels=np.array(labels1)"
   ]
  },
  {
   "cell_type": "code",
   "execution_count": 10,
   "id": "087b6eb6",
   "metadata": {},
   "outputs": [],
   "source": [
    "data=np.array(data)\n",
    "test=np.array(test)"
   ]
  },
  {
   "cell_type": "code",
   "execution_count": 11,
   "id": "73aec282",
   "metadata": {},
   "outputs": [],
   "source": [
    "trainx,testx,trainy,testy=train_test_split(data,labels,test_size=0.2,random_state=44)"
   ]
  },
  {
   "cell_type": "code",
   "execution_count": 12,
   "id": "22df8e8b",
   "metadata": {},
   "outputs": [
    {
     "name": "stdout",
     "output_type": "stream",
     "text": [
      "(4495, 40, 40, 3)\n",
      "(1124, 40, 40, 3)\n",
      "(4495, 107)\n",
      "(1124, 107)\n"
     ]
    }
   ],
   "source": [
    "print(trainx.shape)\n",
    "print(testx.shape)\n",
    "print(trainy.shape)\n",
    "print(testy.shape)"
   ]
  },
  {
   "cell_type": "code",
   "execution_count": 13,
   "id": "75d7ec47",
   "metadata": {},
   "outputs": [],
   "source": [
    "datagen = ImageDataGenerator(horizontal_flip=True,vertical_flip=True,rotation_range=20,zoom_range=0.2,\n",
    "                        width_shift_range=0.2,height_shift_range=0.2,shear_range=0.1,fill_mode=\"nearest\")"
   ]
  },
  {
   "cell_type": "code",
   "execution_count": 14,
   "id": "ba198e3d",
   "metadata": {},
   "outputs": [
    {
     "name": "stdout",
     "output_type": "stream",
     "text": [
      "Downloading data from https://storage.googleapis.com/tensorflow/keras-applications/densenet/densenet201_weights_tf_dim_ordering_tf_kernels_notop.h5\n",
      "74842112/74836368 [==============================] - 8s 0us/step\n"
     ]
    }
   ],
   "source": [
    "pretrained_model3 = tf.keras.applications.DenseNet201(input_shape=(40,40,3),include_top=False,weights='imagenet',pooling='avg')\n",
    "pretrained_model3.trainable = False"
   ]
  },
  {
   "cell_type": "code",
   "execution_count": 15,
   "id": "1fccd895",
   "metadata": {},
   "outputs": [],
   "source": [
    "inputs3 = pretrained_model3.input\n",
    "x3 = tf.keras.layers.Dense(128, activation='relu')(pretrained_model3.output)\n",
    "outputs3 = tf.keras.layers.Dense(107, activation='softmax')(x3)\n",
    "model = tf.keras.Model(inputs=inputs3, outputs=outputs3)"
   ]
  },
  {
   "cell_type": "code",
   "execution_count": 16,
   "id": "cea95243",
   "metadata": {},
   "outputs": [],
   "source": [
    "model.compile(optimizer='adam',loss='categorical_crossentropy',metrics=['accuracy'])"
   ]
  },
  {
   "cell_type": "code",
   "execution_count": 17,
   "id": "e04c9c6a",
   "metadata": {},
   "outputs": [
    {
     "name": "stdout",
     "output_type": "stream",
     "text": [
      "Epoch 1/30\n",
      "141/141 [==============================] - 17s 119ms/step - loss: 4.6064 - accuracy: 0.0245 - val_loss: 4.3775 - val_accuracy: 0.0596\n",
      "Epoch 2/30\n",
      "141/141 [==============================] - 14s 101ms/step - loss: 4.2704 - accuracy: 0.0710 - val_loss: 3.9717 - val_accuracy: 0.0979\n",
      "Epoch 3/30\n",
      "141/141 [==============================] - 14s 99ms/step - loss: 4.0082 - accuracy: 0.1034 - val_loss: 3.7880 - val_accuracy: 0.1308\n",
      "Epoch 4/30\n",
      "141/141 [==============================] - 14s 100ms/step - loss: 3.8275 - accuracy: 0.1301 - val_loss: 3.6768 - val_accuracy: 0.1379\n",
      "Epoch 5/30\n",
      "141/141 [==============================] - 14s 101ms/step - loss: 3.6709 - accuracy: 0.1580 - val_loss: 3.5626 - val_accuracy: 0.1619\n",
      "Epoch 6/30\n",
      "141/141 [==============================] - 14s 98ms/step - loss: 3.5893 - accuracy: 0.1602 - val_loss: 3.4976 - val_accuracy: 0.1673\n",
      "Epoch 7/30\n",
      "141/141 [==============================] - 15s 103ms/step - loss: 3.5195 - accuracy: 0.1617 - val_loss: 3.4344 - val_accuracy: 0.1975\n",
      "Epoch 8/30\n",
      "141/141 [==============================] - 14s 102ms/step - loss: 3.4632 - accuracy: 0.1815 - val_loss: 3.3944 - val_accuracy: 0.1859\n",
      "Epoch 9/30\n",
      "141/141 [==============================] - 15s 104ms/step - loss: 3.3944 - accuracy: 0.1918 - val_loss: 3.3540 - val_accuracy: 0.2028\n",
      "Epoch 10/30\n",
      "141/141 [==============================] - 14s 101ms/step - loss: 3.3390 - accuracy: 0.2093 - val_loss: 3.3155 - val_accuracy: 0.1993\n",
      "Epoch 11/30\n",
      "141/141 [==============================] - 14s 96ms/step - loss: 3.3044 - accuracy: 0.2073 - val_loss: 3.3258 - val_accuracy: 0.1931\n",
      "Epoch 12/30\n",
      "141/141 [==============================] - 14s 98ms/step - loss: 3.2668 - accuracy: 0.2178 - val_loss: 3.2767 - val_accuracy: 0.2126\n",
      "Epoch 13/30\n",
      "141/141 [==============================] - 15s 106ms/step - loss: 3.2396 - accuracy: 0.2211 - val_loss: 3.2579 - val_accuracy: 0.2251\n",
      "Epoch 14/30\n",
      "141/141 [==============================] - 15s 105ms/step - loss: 3.1785 - accuracy: 0.2394 - val_loss: 3.2758 - val_accuracy: 0.2189\n",
      "Epoch 15/30\n",
      "141/141 [==============================] - 14s 100ms/step - loss: 3.1578 - accuracy: 0.2331 - val_loss: 3.2496 - val_accuracy: 0.2171\n",
      "Epoch 16/30\n",
      "141/141 [==============================] - 14s 100ms/step - loss: 3.1410 - accuracy: 0.2392 - val_loss: 3.2397 - val_accuracy: 0.2313\n",
      "Epoch 17/30\n",
      "141/141 [==============================] - 14s 98ms/step - loss: 3.1235 - accuracy: 0.2454 - val_loss: 3.2877 - val_accuracy: 0.2171\n",
      "Epoch 18/30\n",
      "141/141 [==============================] - 14s 99ms/step - loss: 3.0800 - accuracy: 0.2407 - val_loss: 3.1974 - val_accuracy: 0.2393\n",
      "Epoch 19/30\n",
      "141/141 [==============================] - 14s 97ms/step - loss: 3.0156 - accuracy: 0.2565 - val_loss: 3.2510 - val_accuracy: 0.2269\n",
      "Epoch 20/30\n",
      "141/141 [==============================] - 14s 97ms/step - loss: 3.0558 - accuracy: 0.2549 - val_loss: 3.1815 - val_accuracy: 0.2464\n",
      "Epoch 21/30\n",
      "141/141 [==============================] - 14s 99ms/step - loss: 3.0110 - accuracy: 0.2521 - val_loss: 3.1938 - val_accuracy: 0.2393\n",
      "Epoch 22/30\n",
      "141/141 [==============================] - 14s 98ms/step - loss: 2.9660 - accuracy: 0.2716 - val_loss: 3.2070 - val_accuracy: 0.2233\n",
      "Epoch 23/30\n",
      "141/141 [==============================] - 14s 100ms/step - loss: 2.9897 - accuracy: 0.2654 - val_loss: 3.1830 - val_accuracy: 0.2393\n",
      "Epoch 24/30\n",
      "141/141 [==============================] - 14s 101ms/step - loss: 2.9900 - accuracy: 0.2647 - val_loss: 3.2045 - val_accuracy: 0.2313\n",
      "Epoch 25/30\n",
      "141/141 [==============================] - 14s 101ms/step - loss: 2.9524 - accuracy: 0.2772 - val_loss: 3.1914 - val_accuracy: 0.2509\n",
      "Epoch 26/30\n",
      "141/141 [==============================] - 14s 98ms/step - loss: 2.9258 - accuracy: 0.2719 - val_loss: 3.1765 - val_accuracy: 0.2349\n",
      "Epoch 27/30\n",
      "141/141 [==============================] - 14s 99ms/step - loss: 2.9474 - accuracy: 0.2747 - val_loss: 3.1877 - val_accuracy: 0.2456\n",
      "Epoch 28/30\n",
      "141/141 [==============================] - 14s 99ms/step - loss: 2.8756 - accuracy: 0.2823 - val_loss: 3.2347 - val_accuracy: 0.2295\n",
      "Epoch 29/30\n",
      "141/141 [==============================] - 14s 102ms/step - loss: 2.8819 - accuracy: 0.2899 - val_loss: 3.1871 - val_accuracy: 0.2420\n",
      "Epoch 30/30\n",
      "141/141 [==============================] - 14s 102ms/step - loss: 2.8594 - accuracy: 0.2937 - val_loss: 3.2348 - val_accuracy: 0.2456\n"
     ]
    }
   ],
   "source": [
    "his=model.fit(datagen.flow(trainx,trainy,batch_size=32),validation_data=(testx,testy),epochs=30)"
   ]
  },
  {
   "cell_type": "code",
   "execution_count": 18,
   "id": "0f6cf7b1",
   "metadata": {},
   "outputs": [
    {
     "name": "stdout",
     "output_type": "stream",
     "text": [
      "              precision    recall  f1-score   support\n",
      "\n",
      "           0       0.14      0.60      0.22         5\n",
      "           1       0.12      0.11      0.12         9\n",
      "           2       0.00      0.00      0.00         7\n",
      "           3       0.19      0.27      0.22        11\n",
      "           4       0.29      0.50      0.36         8\n",
      "           5       0.25      0.15      0.19        13\n",
      "           6       0.00      0.00      0.00         5\n",
      "           7       0.44      0.50      0.47         8\n",
      "           8       0.25      0.40      0.31        10\n",
      "           9       0.33      0.50      0.40        10\n",
      "          10       0.11      0.10      0.11        10\n",
      "          11       0.38      0.33      0.35         9\n",
      "          12       0.17      0.30      0.21        10\n",
      "          13       0.50      0.18      0.26        17\n",
      "          14       0.16      0.50      0.24         8\n",
      "          15       0.30      0.30      0.30        10\n",
      "          16       0.33      0.17      0.22        12\n",
      "          17       0.00      0.00      0.00        14\n",
      "          18       1.00      0.11      0.20         9\n",
      "          19       0.12      0.22      0.16         9\n",
      "          20       0.11      0.08      0.09        13\n",
      "          21       0.17      0.06      0.08        18\n",
      "          22       0.15      0.44      0.23         9\n",
      "          23       0.33      0.40      0.36        10\n",
      "          24       0.36      0.33      0.34        15\n",
      "          25       0.33      0.17      0.22        12\n",
      "          26       0.17      0.18      0.17        11\n",
      "          27       0.40      0.29      0.33         7\n",
      "          28       0.46      0.50      0.48        12\n",
      "          29       0.00      0.00      0.00        10\n",
      "          30       0.00      0.00      0.00        11\n",
      "          31       1.00      0.09      0.17        11\n",
      "          32       0.11      0.07      0.09        14\n",
      "          33       0.00      0.00      0.00        10\n",
      "          34       0.50      0.18      0.27        11\n",
      "          35       0.08      0.25      0.12         4\n",
      "          36       0.21      0.78      0.33         9\n",
      "          37       0.25      0.44      0.32         9\n",
      "          38       0.20      0.12      0.15         8\n",
      "          39       0.21      0.36      0.27        11\n",
      "          40       0.56      0.36      0.43        14\n",
      "          41       0.00      0.00      0.00        16\n",
      "          42       0.50      0.40      0.44         5\n",
      "          43       0.17      0.33      0.22         9\n",
      "          44       0.50      0.33      0.40         6\n",
      "          45       0.43      0.30      0.35        10\n",
      "          46       0.09      0.13      0.11        15\n",
      "          47       0.00      0.00      0.00         7\n",
      "          48       0.17      0.67      0.27         3\n",
      "          49       0.29      0.25      0.27         8\n",
      "          50       0.00      0.00      0.00        11\n",
      "          51       0.33      0.10      0.15        10\n",
      "          52       0.11      0.10      0.11        10\n",
      "          53       0.17      0.50      0.25         2\n",
      "          54       0.21      0.53      0.30        15\n",
      "          55       0.50      0.12      0.19        17\n",
      "          56       0.27      0.25      0.26        16\n",
      "          57       0.27      0.30      0.29        10\n",
      "          58       0.00      0.00      0.00         7\n",
      "          59       0.25      0.33      0.29        12\n",
      "          60       0.25      0.12      0.17        16\n",
      "          61       0.33      0.11      0.17         9\n",
      "          62       0.27      0.44      0.33         9\n",
      "          63       0.20      0.30      0.24        10\n",
      "          64       0.00      0.00      0.00        12\n",
      "          65       0.50      0.20      0.29         5\n",
      "          66       0.36      0.67      0.47        12\n",
      "          67       0.18      0.43      0.25         7\n",
      "          68       0.14      0.27      0.18        11\n",
      "          69       0.22      0.15      0.18        13\n",
      "          70       0.44      0.50      0.47         8\n",
      "          71       0.00      0.00      0.00        14\n",
      "          72       0.12      0.12      0.12         8\n",
      "          73       0.50      0.36      0.42        11\n",
      "          74       0.00      0.00      0.00        11\n",
      "          75       0.00      0.00      0.00         7\n",
      "          76       0.50      0.17      0.25        12\n",
      "          77       0.27      0.25      0.26        12\n",
      "          78       0.00      0.00      0.00        10\n",
      "          79       0.29      0.22      0.25         9\n",
      "          80       0.19      0.50      0.27        12\n",
      "          81       0.14      0.09      0.11        11\n",
      "          82       0.28      0.33      0.30        15\n",
      "          83       0.00      0.00      0.00         6\n",
      "          84       0.15      0.30      0.20        10\n",
      "          85       0.23      0.27      0.25        11\n",
      "          86       0.25      0.14      0.18         7\n",
      "          87       0.38      0.38      0.38         8\n",
      "          88       0.00      0.00      0.00        14\n",
      "          89       0.60      0.20      0.30        15\n",
      "          90       0.40      0.40      0.40        15\n",
      "          91       0.44      0.44      0.44        16\n",
      "          92       0.43      0.20      0.27        15\n",
      "          93       0.00      0.00      0.00         3\n",
      "          94       0.26      0.50      0.34        12\n",
      "          95       0.43      0.21      0.29        14\n",
      "          96       0.25      0.21      0.23        14\n",
      "          97       0.42      0.73      0.53        11\n",
      "          98       0.10      0.12      0.11         8\n",
      "          99       0.17      0.08      0.11        12\n",
      "         100       0.71      0.71      0.71        14\n",
      "         101       0.35      0.78      0.48         9\n",
      "         102       0.45      0.36      0.40        14\n",
      "         103       0.00      0.00      0.00        11\n",
      "         104       0.33      0.50      0.40        12\n",
      "         105       0.00      0.00      0.00         9\n",
      "         106       0.10      0.12      0.11         8\n",
      "\n",
      "    accuracy                           0.25      1124\n",
      "   macro avg       0.25      0.25      0.22      1124\n",
      "weighted avg       0.26      0.25      0.22      1124\n",
      "\n"
     ]
    },
    {
     "name": "stderr",
     "output_type": "stream",
     "text": [
      "C:\\Users\\rolin\\anaconda3\\envs\\vision\\lib\\site-packages\\sklearn\\metrics\\_classification.py:1248: UndefinedMetricWarning: Precision and F-score are ill-defined and being set to 0.0 in labels with no predicted samples. Use `zero_division` parameter to control this behavior.\n",
      "  _warn_prf(average, modifier, msg_start, len(result))\n",
      "C:\\Users\\rolin\\anaconda3\\envs\\vision\\lib\\site-packages\\sklearn\\metrics\\_classification.py:1248: UndefinedMetricWarning: Precision and F-score are ill-defined and being set to 0.0 in labels with no predicted samples. Use `zero_division` parameter to control this behavior.\n",
      "  _warn_prf(average, modifier, msg_start, len(result))\n",
      "C:\\Users\\rolin\\anaconda3\\envs\\vision\\lib\\site-packages\\sklearn\\metrics\\_classification.py:1248: UndefinedMetricWarning: Precision and F-score are ill-defined and being set to 0.0 in labels with no predicted samples. Use `zero_division` parameter to control this behavior.\n",
      "  _warn_prf(average, modifier, msg_start, len(result))\n"
     ]
    }
   ],
   "source": [
    "y_pred=model.predict(testx)\n",
    "pred=np.argmax(y_pred,axis=1)\n",
    "ground = np.argmax(testy,axis=1)\n",
    "print(classification_report(ground,pred))"
   ]
  },
  {
   "cell_type": "code",
   "execution_count": 19,
   "id": "599a1b8d",
   "metadata": {},
   "outputs": [
    {
     "data": {
      "image/png": "[encoded data removed]",
      "text/plain": [
       "<Figure size 432x288 with 1 Axes>"
      ]
     },
     "metadata": {
      "needs_background": "light"
     },
     "output_type": "display_data"
    },
    {
     "data": {
      "text/plain": [
       "<Figure size 432x288 with 0 Axes>"
      ]
     },
     "metadata": {},
     "output_type": "display_data"
    }
   ],
   "source": [
    "get_acc = his.history['accuracy']\n",
    "value_acc = his.history['val_accuracy']\n",
    "get_loss = his.history['loss']\n",
    "validation_loss = his.history['val_loss']\n",
    "\n",
    "epochs = range(len(get_acc))\n",
    "plt.plot(epochs, get_acc, 'r', label='Accuracy of Training data')\n",
    "plt.plot(epochs, value_acc, 'b', label='Accuracy of Validation data')\n",
    "plt.title('Training vs validation accuracy')\n",
    "plt.legend(loc=0)\n",
    "plt.figure()\n",
    "plt.show()"
   ]
  },
  {
   "cell_type": "code",
   "execution_count": 20,
   "id": "ae7df0dd",
   "metadata": {},
   "outputs": [
    {
     "data": {
      "image/png": "[encoded data removed]",
      "text/plain": [
       "<Figure size 432x288 with 1 Axes>"
      ]
     },
     "metadata": {
      "needs_background": "light"
     },
     "output_type": "display_data"
    },
    {
     "data": {
      "text/plain": [
       "<Figure size 432x288 with 0 Axes>"
      ]
     },
     "metadata": {},
     "output_type": "display_data"
    }
   ],
   "source": [
    "epochs = range(len(get_loss))\n",
    "plt.plot(epochs, get_loss, 'r', label='Loss of Training data')\n",
    "plt.plot(epochs, validation_loss, 'b', label='Loss of Validation data')\n",
    "plt.title('Training vs validation loss')\n",
    "plt.legend(loc=0)\n",
    "plt.figure()\n",
    "plt.show()"
   ]
  },
  {
   "cell_type": "code",
   "execution_count": 21,
   "id": "b5ac2604",
   "metadata": {},
   "outputs": [
    {
     "data": {
      "image/png": "[encoded data removed]",
      "text/plain": [
       "<PIL.Image.Image image mode=RGB size=40x40 at 0x22CAE8445B0>"
      ]
     },
     "execution_count": 21,
     "metadata": {},
     "output_type": "execute_result"
    }
   ],
   "source": [
    "load_img(\"pose_recognition_data/dataset/adho mukha svanasana/95. downward-facing-dog-pose.png\",target_size=(40,40))"
   ]
  },
  {
   "cell_type": "code",
   "execution_count": 22,
   "id": "0fd84472",
   "metadata": {},
   "outputs": [],
   "source": [
    "image = load_img(\"pose_recognition_data/dataset/adho mukha svanasana/95. downward-facing-dog-pose.png\",target_size=(40,40))\n",
    "\n",
    "image=img_to_array(image) \n",
    "image=image/255.0\n",
    "prediction_image=np.array(image)\n",
    "prediction_image= np.expand_dims(image, axis=0)"
   ]
  },
  {
   "cell_type": "code",
   "execution_count": 27,
   "id": "77e63391",
   "metadata": {},
   "outputs": [
    {
     "name": "stdout",
     "output_type": "stream",
     "text": [
      "Prediction is adho mukha svanasana.\n"
     ]
    }
   ],
   "source": [
    "prediction=model.predict(prediction_image)\n",
    "value=np.argmax(prediction)\n",
    "move_name=mapper(value)\n",
    "print(\"Prediction is {}.\".format(move_name))"
   ]
  },
  {
   "cell_type": "code",
   "execution_count": 24,
   "id": "20fb876d",
   "metadata": {},
   "outputs": [
    {
     "name": "stdout",
     "output_type": "stream",
     "text": [
      "(375, 40, 40, 3)\n",
      "(375, 107)\n"
     ]
    }
   ],
   "source": [
    "print(test.shape)\n",
    "pred2=model.predict(test)\n",
    "print(pred2.shape)\n",
    "\n",
    "PRED=[]\n",
    "for item in pred2:\n",
    "    value2=np.argmax(item)      \n",
    "    PRED+=[value2]"
   ]
  },
  {
   "cell_type": "code",
   "execution_count": 25,
   "id": "992fc3dc",
   "metadata": {},
   "outputs": [],
   "source": [
    "ANS=testlabels0"
   ]
  },
  {
   "cell_type": "code",
   "execution_count": 26,
   "id": "f7dc3ad8",
   "metadata": {},
   "outputs": [
    {
     "name": "stdout",
     "output_type": "stream",
     "text": [
      "0.27466666666666667\n"
     ]
    }
   ],
   "source": [
    "accuracy=accuracy_score(ANS,PRED)\n",
    "print(accuracy)"
   ]
  },
  {
   "cell_type": "code",
   "execution_count": null,
   "id": "ec91aa74",
   "metadata": {},
   "outputs": [],
   "source": []
  }
 ],
 "metadata": {
  "kernelspec": {
   "display_name": "Python 3",
   "language": "python",
   "name": "python3"
  },
  "language_info": {
   "codemirror_mode": {
    "name": "ipython",
    "version": 3
   },
   "file_extension": ".py",
   "mimetype": "text/x-python",
   "name": "python",
   "nbconvert_exporter": "python",
   "pygments_lexer": "ipython3",
   "version": "3.8.8"
  }
 },
 "nbformat": 4,
 "nbformat_minor": 5
}
