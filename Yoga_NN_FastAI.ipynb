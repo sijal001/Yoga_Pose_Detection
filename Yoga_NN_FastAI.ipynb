{
 "cells": [
  {
   "cell_type": "code",
   "execution_count": null,
   "id": "52e25f80",
   "metadata": {},
   "outputs": [],
   "source": [
    "BASE_PATH = './'\n",
    "EXAMPLE_PATH = './example.jpg'\n",
    "\n",
    "# Imports\n",
    "from fastai.vision import *\n",
    "from fastai.widgets import *\n",
    "\n",
    "# Set the file path\n",
    "path = Path(BASE_PATH)\n",
    "\n",
    "# Create data loader / manager\n",
    "data_bunch = ImageDataBunch.from_folder(\n",
    "    # Data director\n",
    "    path, \n",
    "    # Reserve 20 percent of our images for our validation set\n",
    "    valid_pct=0.2,\n",
    "    # Transforms to apply to the image to create variations on our training image\n",
    "    ds_tfms=get_transforms(max_zoom=1.0), \n",
    "    # Dimension of image to process\n",
    "    size=224,\n",
    "    # Num workers to use\n",
    "    num_workers=4\n",
    ").normalize(\n",
    "\t# Use imagenet stats to normalize (to match what was pre-trained with)\n",
    "\timagenet_stats\n",
    ")\n",
    "\n",
    "# Create our learner to process the training data and update our model\n",
    "learner = create_cnn(data_bunch, models.resnet34, pretrained=True, metrics=error_rate)\t\n",
    "\n",
    "# Start training\n",
    "learner.fit_one_cycle(10)\n",
    "\n",
    "# Unfreeze the model\n",
    "learner.unfreeze()\n",
    "\n",
    "# Train the entire model some more\n",
    "learner.fit_one_cycle(10, max_lr=slice(1e-3, 1e-5))\n",
    "\n",
    "# Reduce the learning rate and train some more\n",
    "learner.fit_one_cycle(10, max_lr=slice(1e-4, 1e-6))\n",
    "\n",
    "# Grab an example image\n",
    "example_image = open_image(Path(EXAMPLE_PATH))\n",
    "\n",
    "# Make a prediction\n",
    "predicted_class, _, _ = learner.predict(example_image)\n",
    "print(predicted_class)\n",
    "\n",
    "# Export the model\n",
    "learner.export()"
   ]
  },
  {
   "cell_type": "code",
   "execution_count": null,
   "id": "e8c6e36e",
   "metadata": {},
   "outputs": [],
   "source": []
  },
  {
   "cell_type": "code",
   "execution_count": null,
   "id": "d05ac155",
   "metadata": {},
   "outputs": [],
   "source": []
  },
  {
   "cell_type": "code",
   "execution_count": null,
   "id": "3c7229cf",
   "metadata": {},
   "outputs": [],
   "source": []
  },
  {
   "cell_type": "code",
   "execution_count": null,
   "id": "6d61cb79",
   "metadata": {},
   "outputs": [],
   "source": []
  },
  {
   "cell_type": "code",
   "execution_count": null,
   "id": "9284f479",
   "metadata": {},
   "outputs": [],
   "source": []
  },
  {
   "cell_type": "code",
   "execution_count": null,
   "id": "892e0c12",
   "metadata": {},
   "outputs": [],
   "source": []
  },
  {
   "cell_type": "code",
   "execution_count": null,
   "id": "629b56cd",
   "metadata": {},
   "outputs": [],
   "source": []
  },
  {
   "cell_type": "code",
   "execution_count": null,
   "id": "9da51ce8",
   "metadata": {},
   "outputs": [],
   "source": []
  },
  {
   "cell_type": "code",
   "execution_count": null,
   "id": "c80b3210",
   "metadata": {},
   "outputs": [],
   "source": []
  },
  {
   "cell_type": "code",
   "execution_count": null,
   "id": "27649abd",
   "metadata": {},
   "outputs": [],
   "source": [
    "#####################################################"
   ]
  },
  {
   "cell_type": "code",
   "execution_count": null,
   "id": "43e5202f",
   "metadata": {},
   "outputs": [],
   "source": [
    "# dependencies"
   ]
  },
  {
   "cell_type": "code",
   "execution_count": null,
   "id": "8bcf09fa",
   "metadata": {},
   "outputs": [],
   "source": [
    "#!conda install numpy pandas pytorch torchvision cpuonly -c pytorch -y"
   ]
  },
  {
   "cell_type": "code",
   "execution_count": null,
   "id": "129d2a62",
   "metadata": {},
   "outputs": [],
   "source": [
    "#!pip install matplotlib --upgrade --quiet"
   ]
  },
  {
   "cell_type": "code",
   "execution_count": null,
   "id": "4d6cba0d",
   "metadata": {},
   "outputs": [],
   "source": []
  },
  {
   "cell_type": "code",
   "execution_count": null,
   "id": "9348499e",
   "metadata": {},
   "outputs": [],
   "source": [
    "import os\n",
    "import torch\n",
    "import  torchvision\n",
    "import numpy as np\n",
    "import pandas as pd\n",
    "import matplotlib.pyplot as plt\n",
    "import torch.nn as nn\n",
    "import torch.nn.functional as F\n",
    "import torchvision.transforms as tt\n",
    "from torchvision.datasets import VOCDetection\n",
    "from torchvision.transforms import ToTensor\n",
    "from torchvision.utils import make_grid\n",
    "from torch.utils.data.dataloader import DataLoader\n",
    "from torch.utils.data import random_split\n",
    "%matplotlib inline"
   ]
  },
  {
   "cell_type": "code",
   "execution_count": null,
   "id": "d3397e5f",
   "metadata": {},
   "outputs": [],
   "source": [
    "# get data"
   ]
  },
  {
   "cell_type": "code",
   "execution_count": null,
   "id": "f8fa48cd",
   "metadata": {},
   "outputs": [],
   "source": [
    "dataset_path = 'pose_recognition_data/training data/training frames/'"
   ]
  },
  {
   "cell_type": "code",
   "execution_count": null,
   "id": "c6a98525",
   "metadata": {},
   "outputs": [],
   "source": [
    "# build transfer learning"
   ]
  },
  {
   "cell_type": "code",
   "execution_count": null,
   "id": "defa355d",
   "metadata": {},
   "outputs": [],
   "source": [
    "# Make some prediction"
   ]
  },
  {
   "cell_type": "code",
   "execution_count": null,
   "id": "0c5488c4",
   "metadata": {},
   "outputs": [],
   "source": []
  },
  {
   "cell_type": "code",
   "execution_count": null,
   "id": "102a2f92",
   "metadata": {},
   "outputs": [],
   "source": [
    "#################################################################"
   ]
  },
  {
   "cell_type": "code",
   "execution_count": null,
   "id": "0eb07eb7",
   "metadata": {},
   "outputs": [],
   "source": [
    "# yoga-82"
   ]
  },
  {
   "cell_type": "code",
   "execution_count": null,
   "id": "83547bd9",
   "metadata": {},
   "outputs": [],
   "source": []
  },
  {
   "cell_type": "code",
   "execution_count": 2,
   "id": "7e5b00f8",
   "metadata": {},
   "outputs": [],
   "source": [
    "import sys\n",
    "import os"
   ]
  },
  {
   "cell_type": "code",
   "execution_count": 8,
   "id": "05d389f9",
   "metadata": {},
   "outputs": [
    {
     "name": "stderr",
     "output_type": "stream",
     "text": [
      "Invalid switch - \"Yoga-82\".\n"
     ]
    }
   ],
   "source": [
    "#! del /s /q /f *  pose_recognition_data/Yoga-82/yoga_dataset_links/desktop.ini"
   ]
  },
  {
   "cell_type": "code",
   "execution_count": 4,
   "id": "871f93a8",
   "metadata": {},
   "outputs": [
    {
     "data": {
      "text/plain": [
       "['Akarna_Dhanurasana.txt',\n",
       " \"Bharadvaja's_Twist_pose_or_Bharadvajasana_I_.txt\",\n",
       " 'Boat_Pose_or_Paripurna_Navasana_.txt',\n",
       " 'Bound_Angle_Pose_or_Baddha_Konasana_.txt',\n",
       " 'Bow_Pose_or_Dhanurasana_.txt',\n",
       " 'Bridge_Pose_or_Setu_Bandha_Sarvangasana_.txt',\n",
       " 'Camel_Pose_or_Ustrasana_.txt',\n",
       " 'Cat_Cow_Pose_or_Marjaryasana_.txt',\n",
       " 'Chair_Pose_or_Utkatasana_.txt',\n",
       " 'Child_Pose_or_Balasana_.txt',\n",
       " 'Cobra_Pose_or_Bhujangasana_.txt',\n",
       " 'Cockerel_Pose.txt',\n",
       " 'Corpse_Pose_or_Savasana_.txt',\n",
       " 'Cow_Face_Pose_or_Gomukhasana_.txt',\n",
       " 'Crane_(Crow)_Pose_or_Bakasana_.txt',\n",
       " 'desktop.ini',\n",
       " 'Dolphin_Plank_Pose_or_Makara_Adho_Mukha_Svanasana_.txt',\n",
       " 'Dolphin_Pose_or_Ardha_Pincha_Mayurasana_.txt',\n",
       " 'Downward-Facing_Dog_pose_or_Adho_Mukha_Svanasana_.txt',\n",
       " 'Eagle_Pose_or_Garudasana_.txt',\n",
       " 'Eight-Angle_Pose_or_Astavakrasana_.txt',\n",
       " 'Extended_Puppy_Pose_or_Uttana_Shishosana_.txt',\n",
       " 'Extended_Revolved_Side_Angle_Pose_or_Utthita_Parsvakonasana_.txt',\n",
       " 'Extended_Revolved_Triangle_Pose_or_Utthita_Trikonasana_.txt',\n",
       " 'Feathered_Peacock_Pose_or_Pincha_Mayurasana_.txt',\n",
       " 'Firefly_Pose_or_Tittibhasana_.txt',\n",
       " 'Fish_Pose_or_Matsyasana_.txt',\n",
       " 'Four-Limbed_Staff_Pose_or_Chaturanga_Dandasana_.txt',\n",
       " 'Frog_Pose_or_Bhekasana.txt',\n",
       " 'Garland_Pose_or_Malasana_.txt',\n",
       " 'Gate_Pose_or_Parighasana_.txt',\n",
       " 'Half_Lord_of_the_Fishes_Pose_or_Ardha_Matsyendrasana_.txt',\n",
       " 'Half_Moon_Pose_or_Ardha_Chandrasana_.txt',\n",
       " 'Handstand_pose_or_Adho_Mukha_Vrksasana_.txt',\n",
       " 'Happy_Baby_Pose_or_Ananda_Balasana_.txt',\n",
       " 'Head-to-Knee_Forward_Bend_pose_or_Janu_Sirsasana_.txt',\n",
       " 'Heron_Pose_or_Krounchasana_.txt',\n",
       " 'Intense_Side_Stretch_Pose_or_Parsvottanasana_.txt',\n",
       " 'Legs-Up-the-Wall_Pose_or_Viparita_Karani_.txt',\n",
       " 'Locust_Pose_or_Salabhasana_.txt',\n",
       " 'Lord_of_the_Dance_Pose_or_Natarajasana_.txt',\n",
       " 'Low_Lunge_pose_or_Anjaneyasana_.txt',\n",
       " 'Noose_Pose_or_Pasasana_.txt',\n",
       " 'Peacock_Pose_or_Mayurasana_.txt',\n",
       " 'Pigeon_Pose_or_Kapotasana_.txt',\n",
       " 'Plank_Pose_or_Kumbhakasana_.txt',\n",
       " 'Plow_Pose_or_Halasana_.txt',\n",
       " 'Pose_Dedicated_to_the_Sage_Koundinya_or_Eka_Pada_Koundinyanasana_I_and_II.txt',\n",
       " 'Rajakapotasana.txt',\n",
       " 'Reclining_Hand-to-Big-Toe_Pose_or_Supta_Padangusthasana_.txt',\n",
       " 'Revolved_Head-to-Knee_Pose_or_Parivrtta_Janu_Sirsasana_.txt',\n",
       " 'Scale_Pose_or_Tolasana_.txt',\n",
       " 'Scorpion_pose_or_vrischikasana.txt',\n",
       " 'Seated_Forward_Bend_pose_or_Paschimottanasana_.txt',\n",
       " 'Shoulder-Pressing_Pose_or_Bhujapidasana_.txt',\n",
       " 'Side-Reclining_Leg_Lift_pose_or_Anantasana_.txt',\n",
       " 'Side_Crane_(Crow)_Pose_or_Parsva_Bakasana_.txt',\n",
       " 'Side_Plank_Pose_or_Vasisthasana_.txt',\n",
       " 'Sitting pose 1 (normal).txt',\n",
       " 'Split pose.txt',\n",
       " 'Staff_Pose_or_Dandasana_.txt',\n",
       " 'Standing_big_toe_hold_pose_or_Utthita_Padangusthasana.txt',\n",
       " 'Standing_Forward_Bend_pose_or_Uttanasana_.txt',\n",
       " 'Standing_Split_pose_or_Urdhva_Prasarita_Eka_Padasana_.txt',\n",
       " 'Supported_Headstand_pose_or_Salamba_Sirsasana_.txt',\n",
       " 'Supported_Shoulderstand_pose_or_Salamba_Sarvangasana_.txt',\n",
       " 'Supta_Baddha_Konasana_.txt',\n",
       " 'Supta_Virasana_Vajrasana.txt',\n",
       " 'Tortoise_Pose.txt',\n",
       " 'Tree_Pose_or_Vrksasana_.txt',\n",
       " 'Upward_Bow_(Wheel)_Pose_or_Urdhva_Dhanurasana_.txt',\n",
       " 'Upward_Facing_Two-Foot_Staff_Pose_or_Dwi_Pada_Viparita_Dandasana_.txt',\n",
       " 'Upward_Plank_Pose_or_Purvottanasana_.txt',\n",
       " 'viparita_virabhadrasana_or_reverse_warrior_pose.txt',\n",
       " 'Virasana_or_Vajrasana.txt',\n",
       " 'Warrior_III_Pose_or_Virabhadrasana_III_.txt',\n",
       " 'Warrior_II_Pose_or_Virabhadrasana_II_.txt',\n",
       " 'Warrior_I_Pose_or_Virabhadrasana_I_.txt',\n",
       " 'Wide-Angle_Seated_Forward_Bend_pose_or_Upavistha_Konasana_.txt',\n",
       " 'Wide-Legged_Forward_Bend_pose_or_Prasarita_Padottanasana_.txt',\n",
       " 'Wild_Thing_pose_or_Camatkarasana_.txt',\n",
       " 'Wind_Relieving_pose_or_Pawanmuktasana.txt',\n",
       " 'Yogic_sleep_pose.txt']"
      ]
     },
     "execution_count": 4,
     "metadata": {},
     "output_type": "execute_result"
    }
   ],
   "source": [
    "file_list = os.listdir(\"pose_recognition_data/Yoga-82/yoga_dataset_links\");\n",
    "file_list"
   ]
  },
  {
   "cell_type": "code",
   "execution_count": 5,
   "id": "0458109b",
   "metadata": {},
   "outputs": [
    {
     "data": {
      "text/plain": [
       "83"
      ]
     },
     "execution_count": 5,
     "metadata": {},
     "output_type": "execute_result"
    }
   ],
   "source": [
    "len(file_list)"
   ]
  },
  {
   "cell_type": "code",
   "execution_count": 6,
   "id": "d2dbccf2",
   "metadata": {},
   "outputs": [
    {
     "ename": "FileExistsError",
     "evalue": "[WinError 183] Cannot create a file when that file already exists: 'Images'",
     "output_type": "error",
     "traceback": [
      "\u001b[1;31m---------------------------------------------------------------------------\u001b[0m",
      "\u001b[1;31mFileExistsError\u001b[0m                           Traceback (most recent call last)",
      "\u001b[1;32m<ipython-input-6-6133dadb5a0e>\u001b[0m in \u001b[0;36m<module>\u001b[1;34m\u001b[0m\n\u001b[1;32m----> 1\u001b[1;33m \u001b[0mos\u001b[0m\u001b[1;33m.\u001b[0m\u001b[0mmkdir\u001b[0m\u001b[1;33m(\u001b[0m\u001b[1;34m\"Images\"\u001b[0m\u001b[1;33m)\u001b[0m\u001b[1;33m\u001b[0m\u001b[1;33m\u001b[0m\u001b[0m\n\u001b[0m",
      "\u001b[1;31mFileExistsError\u001b[0m: [WinError 183] Cannot create a file when that file already exists: 'Images'"
     ]
    }
   ],
   "source": [
    "os.mkdir(\"Images\")"
   ]
  },
  {
   "cell_type": "code",
   "execution_count": 9,
   "id": "b720d69b",
   "metadata": {},
   "outputs": [
    {
     "ename": "SyntaxError",
     "evalue": "unexpected EOF while parsing (<ipython-input-9-4e591d6bb4c4>, line 25)",
     "output_type": "error",
     "traceback": [
      "\u001b[1;36m  File \u001b[1;32m\"<ipython-input-9-4e591d6bb4c4>\"\u001b[1;36m, line \u001b[1;32m25\u001b[0m\n\u001b[1;33m    \u001b[0m\n\u001b[1;37m    ^\u001b[0m\n\u001b[1;31mSyntaxError\u001b[0m\u001b[1;31m:\u001b[0m unexpected EOF while parsing\n"
     ]
    }
   ],
   "source": [
    "from PIL import Image\n",
    "from tqdm.notebook import tqdm\n",
    "\n",
    "for i in tqdm(range(len(file_list))):\n",
    "    f = open(\"pose_recognition_data/Yoga-82/yoga_dataset_links/\" + file_list[i], 'r');\n",
    "    lines = f.readlines();\n",
    "    f.close();\n",
    "    \n",
    "    for j in tqdm(range(len(lines))):\n",
    "        #print(lines[j])\n",
    "        splits = lines[j][:len(lines[j])-1].split(\",\")\n",
    "        img_path = splits[0];\n",
    "        link = splits[1];\n",
    "        \n",
    "        folder_name, img_name = img_path.split(\"/\");\n",
    "        if(j == 0):\n",
    "            if(not os.path.isdir(\"Images/\" + folder_name)):\n",
    "                os.mkdir(\"Images/\" + folder_name)\n",
    "        os.system(\"wget -O \" + \"Images/\" + folder_name + \"/\" + img_name + \" \" + link)\n",
    "        try:\n",
    "            img = Image.open(\"Images/\" + folder_name + \"/\" + img_name)\n",
    "            img.verify()     # to veify if its an img\n",
    "            img.close()     #to close img and free memory space\n",
    "        except (IOError, SyntaxError) as e:\n",
    "            "
   ]
  },
  {
   "cell_type": "code",
   "execution_count": null,
   "id": "8450d484",
   "metadata": {},
   "outputs": [],
   "source": []
  }
 ],
 "metadata": {
  "kernelspec": {
   "display_name": "Python 3",
   "language": "python",
   "name": "python3"
  },
  "language_info": {
   "codemirror_mode": {
    "name": "ipython",
    "version": 3
   },
   "file_extension": ".py",
   "mimetype": "text/x-python",
   "name": "python",
   "nbconvert_exporter": "python",
   "pygments_lexer": "ipython3",
   "version": "3.8.8"
  }
 },
 "nbformat": 4,
 "nbformat_minor": 5
}
